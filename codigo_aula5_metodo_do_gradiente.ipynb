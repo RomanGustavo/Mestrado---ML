{
  "cells": [
    {
      "cell_type": "markdown",
      "metadata": {
        "id": "view-in-github",
        "colab_type": "text"
      },
      "source": [
        "<a href=\"https://colab.research.google.com/github/RomanGustavo/Mestrado---ML/blob/main/codigo_aula5_metodo_do_gradiente.ipynb\" target=\"_parent\"><img src=\"https://colab.research.google.com/assets/colab-badge.svg\" alt=\"Open In Colab\"/></a>"
      ]
    },
    {
      "cell_type": "markdown",
      "id": "aa948848",
      "metadata": {
        "pycharm": {
          "name": "#%% md\n"
        },
        "id": "aa948848"
      },
      "source": [
        "# Método do Gradiente para Regressão Linear"
      ]
    },
    {
      "cell_type": "markdown",
      "id": "766799f3",
      "metadata": {
        "pycharm": {
          "name": "#%% md\n"
        },
        "id": "766799f3"
      },
      "source": [
        "## Objetivo\n",
        "Com este código, você irá:\n",
        "- automatizar o processo de otimizar $w$ e $b$ usando o Método do Gradiente."
      ]
    },
    {
      "cell_type": "markdown",
      "id": "1053334d",
      "metadata": {
        "pycharm": {
          "name": "#%% md\n"
        },
        "id": "1053334d"
      },
      "source": [
        "## Ferramentas\n",
        "\n",
        "Nesse código, você usará:\n",
        "- NumPy, uma biblioteca popular para cálculos matriciais, etc\n",
        "- Matplotlib, uma biblioteca popular para gerar figuras a partir de dados"
      ]
    },
    {
      "cell_type": "code",
      "execution_count": 14,
      "id": "4de66c47",
      "metadata": {
        "pycharm": {
          "name": "#%%\n"
        },
        "id": "4de66c47"
      },
      "outputs": [],
      "source": [
        "import numpy as np\n",
        "import matplotlib.pyplot as plt\n",
        "import math"
      ]
    },
    {
      "cell_type": "markdown",
      "id": "a62b3e2a",
      "metadata": {
        "pycharm": {
          "name": "#%% md\n"
        },
        "id": "a62b3e2a"
      },
      "source": [
        "\n",
        "## Definição do Problema\n",
        "\n",
        "\n",
        "Usaremos as mesmas amostras de dados que já utilizamos em códigos anteriores:\n",
        "\n",
        "| Corrente (A)     | Tensão (V) |\n",
        "| -------------------| ------------------------ |\n",
        "| 0.2               | 21                      |\n",
        "| 4.5               | 430                      |"
      ]
    },
    {
      "cell_type": "code",
      "execution_count": 15,
      "id": "5a3b802b",
      "metadata": {
        "pycharm": {
          "name": "#%%\n"
        },
        "id": "5a3b802b"
      },
      "outputs": [],
      "source": [
        "# Carregando nosso conjunto de dados:\n",
        "x_trein = np.array([0.1, 0.5, 2, 7])       # característica\n",
        "y_trein = np.array([5.5, 25.5, 100.5, 350.5])    # valor alvo"
      ]
    },
    {
      "cell_type": "markdown",
      "id": "17b7456f",
      "metadata": {
        "pycharm": {
          "name": "#%% md\n"
        },
        "id": "17b7456f"
      },
      "source": [
        "## Calculando o Custo\n",
        "\n",
        "Essa parte foi desenvolvida no nosso último código. Vamos precisar aqui novamente:"
      ]
    },
    {
      "cell_type": "code",
      "execution_count": 16,
      "id": "f2a48aea",
      "metadata": {
        "pycharm": {
          "name": "#%%\n"
        },
        "id": "f2a48aea"
      },
      "outputs": [],
      "source": [
        "def calcula_custo(x, y, w, b):\n",
        "    \"\"\"\n",
        "    Calcula a função custo no âmbito da regressão linear.\n",
        "    Argumentos da função:\n",
        "      x (ndarray (m,)): Conjunto de dados com m amostras\n",
        "      y (ndarray (m,)): Valores alvo de saída\n",
        "      w,b (escalar)   : Parâmetros do modelo\n",
        "    Retorna\n",
        "      custo_total (float): O custo custo de se usar w,b como parâmetros na regressão linear\n",
        "               para ajustar os dados\n",
        "    \"\"\"\n",
        "    # número de amostras de treinamento\n",
        "    m = x.shape[0]\n",
        "\n",
        "    soma_custo = 0\n",
        "    for i in range(m):\n",
        "        f_wb = w * x[i] + b\n",
        "        custo = (f_wb - y[i]) ** 2\n",
        "        soma_custo = soma_custo + custo\n",
        "    custo_total = (1 / (2 * m)) * soma_custo\n",
        "\n",
        "    return custo_total"
      ]
    },
    {
      "cell_type": "markdown",
      "id": "573b53d2",
      "metadata": {
        "pycharm": {
          "name": "#%% md\n"
        },
        "id": "573b53d2"
      },
      "source": [
        "\n",
        "## Método do Gradiente\n",
        "Por enquanto, você já desenvolveu um modelo linear que estima $f_{w,b}(x^{(i)})$:\n",
        "\n",
        "$$f_{w,b}(x^{(i)}) = wx^{(i)} + b \\tag{1}$$\n",
        "\n",
        "Na regressão linear, você utiliza dados de treinamento para ajustar os parâmetros $w$,$b$ minimizando o erro entre suas previsões $f_{w,b}(x^{(i)})$ e os dados verdadeiros $y^{(i)}$. A soma dos erros quadráticos para todas as amostras $(x^{(i)},y^{(i)})$ é chamada de custo, e é denotada por $J(w,b)$:\n",
        "$$J(w,b) = \\frac{1}{2m} \\sum\\limits_{i = 0}^{m-1} (f_{w,b}(x^{(i)}) - y^{(i)})^2\\tag{2}$$"
      ]
    },
    {
      "cell_type": "markdown",
      "id": "ae986d82",
      "metadata": {
        "pycharm": {
          "name": "#%% md\n"
        },
        "id": "ae986d82"
      },
      "source": [
        "\n",
        "O Método do Gradiente então consiste em:\n",
        "\n",
        "$$\\begin{align*} \\text{repetir}&\\text{ até convergir:} \\; \\lbrace \\newline\n",
        "\\;  w &= w -  \\alpha \\frac{\\partial J(w,b)}{\\partial w} \\tag{3}  \\; \\newline\n",
        " b &= b -  \\alpha \\frac{\\partial J(w,b)}{\\partial b}  \\newline \\rbrace\n",
        "\\end{align*}$$\n",
        "onde os parâmetros $w$, $b$ devem ser atualizados simultaneamente.  \n",
        "\n",
        "O gradiente é definido como:\n",
        "$$\n",
        "\\begin{align}\n",
        "\\frac{\\partial J(w,b)}{\\partial w}  &= \\frac{1}{m} \\sum\\limits_{i = 0}^{m-1} (f_{w,b}(x^{(i)}) - y^{(i)})x^{(i)} \\tag{4}\\\\\n",
        "  \\frac{\\partial J(w,b)}{\\partial b}  &= \\frac{1}{m} \\sum\\limits_{i = 0}^{m-1} (f_{w,b}(x^{(i)}) - y^{(i)}) \\tag{5}\\\\\n",
        "\\end{align}\n",
        "$$\n",
        "\n",
        "Aqui, 'simultaneamente' significa que você deve calcular as derivadas parciais para todos os parâmetros antes de atualizar qualquer um desses parâmetros."
      ]
    },
    {
      "cell_type": "markdown",
      "id": "6ed14caf",
      "metadata": {
        "pycharm": {
          "name": "#%% md\n"
        },
        "id": "6ed14caf"
      },
      "source": [
        "\n",
        "## Implementando o Método do Gradiente na Prática.\n",
        "Você irá implementar o método do gradiente para uma única variável (característica). Para fazer isso, você precisará de três funções:\n",
        "- `calcula_gradiente` implementando as equações (4) e (5) acima descritas\n",
        "- `calcula_custo` implementando a equação (2) acima\n",
        "- `metodo_do_gradiente`, utilizando as funções calcula_gradiente e calcula_custo\n",
        "\n",
        "Convenções:\n",
        "- A terminologia que usaremos em Python para variáveis contendo derivadas parciais é a serguinte: $\\frac{\\partial J(w,b)}{\\partial b}$  será `dj_db`.\n",
        "\n"
      ]
    },
    {
      "cell_type": "markdown",
      "id": "416b457c",
      "metadata": {
        "pycharm": {
          "name": "#%% md\n"
        },
        "id": "416b457c"
      },
      "source": [
        "\n",
        "### calcula_gradiente\n",
        "\n",
        "\n",
        "`calcula_gradiente`  implementa (4) e (5) acima e retorna $\\frac{\\partial J(w,b)}{\\partial w}$,$\\frac{\\partial J(w,b)}{\\partial b}$."
      ]
    },
    {
      "cell_type": "code",
      "execution_count": 23,
      "id": "29125631",
      "metadata": {
        "pycharm": {
          "name": "#%%\n"
        },
        "id": "29125631"
      },
      "outputs": [],
      "source": [
        "def calcula_gradiente(x, y, w, b):\n",
        "    \"\"\"\n",
        "    Calcula o gradiente para Regressão Linear\n",
        "    Argumentos da função:\n",
        "      x (ndarray (m,)): Conjunto de dados com m amostras\n",
        "      y (ndarray (m,)): Valores alvo de saída\n",
        "      w,b (scalar)    : parâmetros do modelo\n",
        "    Retorna\n",
        "      dj_dw (scalar): O gradiente do custo em relação ao parâmetros w\n",
        "      dj_db (scalar): O gradiente do custo em relação ao parâmetros b\n",
        "     \"\"\"\n",
        "\n",
        "    # Número de amostras de treinamento\n",
        "    m = x.shape[0]\n",
        "    dj_dw = 0\n",
        "    dj_db = 0\n",
        "\n",
        "    for i in range(m):\n",
        "        f_wb = w * x[i] + b\n",
        "        dj_dw_i = (f_wb - y[i]) * x[i]\n",
        "        dj_db_i = f_wb - y[i]\n",
        "\n",
        "      # \"dj_db += dj_db_i essa ação está repetida\"\n",
        "        dj_db  = dj_db + dj_db_i\n",
        "\n",
        "        dj_dw += dj_dw_i\n",
        "    dj_dw = dj_dw / m\n",
        "    dj_db = dj_db / m\n",
        "\n",
        "    return dj_dw, dj_db"
      ]
    },
    {
      "cell_type": "markdown",
      "id": "c6a1a1db",
      "metadata": {
        "pycharm": {
          "name": "#%% md\n"
        },
        "id": "c6a1a1db"
      },
      "source": [
        "<br/>"
      ]
    },
    {
      "cell_type": "markdown",
      "id": "03c73a11",
      "metadata": {
        "pycharm": {
          "name": "#%% md\n"
        },
        "id": "03c73a11"
      },
      "source": [
        "### Testando nossa implementação da função calcula_gradiente\n",
        "\n",
        "\n",
        "Utilizando as linhas de código abaixo, teste diferentes valores para $b$ e $w$ com o objetivo de encontrar o valor mínimo da função custo $J(w,b)$"
      ]
    },
    {
      "cell_type": "code",
      "execution_count": 24,
      "id": "037d486c",
      "metadata": {
        "pycharm": {
          "name": "#%%\n"
        },
        "colab": {
          "base_uri": "https://localhost:8080/"
        },
        "id": "037d486c",
        "outputId": "6d49b550-76a1-4b4f-b221-06fe187598f0"
      },
      "outputs": [
        {
          "output_type": "stream",
          "name": "stdout",
          "text": [
            "0.0\n",
            "0.0\n"
          ]
        }
      ],
      "source": [
        "b = 0.5\n",
        "w = 50\n",
        "\n",
        "dj_dw, dj_db = calcula_gradiente(x_trein, y_trein, w, b)\n",
        "\n",
        "print(dj_dw)\n",
        "\n",
        "print(dj_db)"
      ]
    },
    {
      "cell_type": "markdown",
      "id": "56af70db",
      "metadata": {
        "pycharm": {
          "name": "#%% md\n"
        },
        "id": "56af70db"
      },
      "source": [
        "### Método do Gradiente\n",
        "\n",
        "Agora que o gradiente pode ser calculado, o Método do Gradiente, descrito na equação (3), é implementado abaixo por meio da função `metodo_do_gradiente`. Os detalhes da implementação estão descritos nos comentários. Abaixo, você vai utilizar essa função para encontrar os valores ótimos para $w$ e $b$ levando em conta o conjunto de dados de treinamento."
      ]
    },
    {
      "cell_type": "code",
      "execution_count": 19,
      "id": "3ebef798",
      "metadata": {
        "pycharm": {
          "name": "#%%\n"
        },
        "id": "3ebef798"
      },
      "outputs": [],
      "source": [
        "def metodo_do_gradiente(x, y, w_in, b_in, alpha, num_iters, calcula_custo, calcula_gradiente):\n",
        "    \"\"\"\n",
        "    Aplica o Método do Gradiente para ajustar w,b. Atualiza w,b ao longo de\n",
        "    num_iters passos (iterações) assumindo uma taxa de aprendizado alpha\n",
        "\n",
        "    Argumentos da função:\n",
        "      x (ndarray (m,))  : Conjunto de dados com m amostras\n",
        "      y (ndarray (m,))  : Valores alvo de saída\n",
        "      w_in,b_in (scalar): valores iniciais para os parâmetros w,b\n",
        "      alpha (float):      taxa de aprendizado\n",
        "      num_iters (int):    número de iterações para o método\n",
        "      calcula_custo:      função responsável por calcular o custo\n",
        "      calcula_gradiente:  função responsável por calcular o gradiente\n",
        "\n",
        "    Retorna:\n",
        "      w (scalar): Valor atualizado para w após rodar o Método do Gradiente\n",
        "      b (scalar): Valor atualizado para b após rodar o Método do Gradiente\n",
        "      J_history (List): Contém o histórico dos valores de custo\n",
        "      p_history (list): Contém o histórico dos valores para [w,b]\n",
        "      \"\"\"\n",
        "\n",
        "    # Arrays que armazenam os valores históricos de J e w para cada iteração para que seja possível fazer gráfico depois\n",
        "    J_history = []\n",
        "    p_history = []\n",
        "    b = b_in\n",
        "    w = w_in\n",
        "\n",
        "    for i in range(num_iters):\n",
        "        # Calcula o gradiente usando a função calcula_gradiente\n",
        "        dj_dw, dj_db = calcula_gradiente(x, y, w , b)\n",
        "\n",
        "        # Atualiza os parâmetros w,b a partir do gradiente calculado\n",
        "        b = b - alpha * dj_db\n",
        "        w = w - alpha * dj_dw\n",
        "\n",
        "        # Salva o custo J para cada iteração\n",
        "        if i<100000:\n",
        "            J_history.append( calcula_custo(x, y, w , b))\n",
        "            p_history.append([w,b])\n",
        "        # Faz print em tempo real enquanto o Método do Gradiente estiver rodando\n",
        "        if i% math.ceil(num_iters/10) == 0:\n",
        "            print(f\"Iteração {i:4}: Custo {J_history[-1]:0.2e} \",\n",
        "                  f\"dj_dw: {dj_dw: 0.3e}, dj_db: {dj_db: 0.3e}  \",\n",
        "                  f\"w: {w: 0.3e}, b:{b: 0.5e}\")\n",
        "\n",
        "    return w, b, J_history, p_history #retorna w,b e valores históricos"
      ]
    },
    {
      "cell_type": "code",
      "execution_count": 25,
      "id": "0d56b234",
      "metadata": {
        "pycharm": {
          "name": "#%%\n"
        },
        "colab": {
          "base_uri": "https://localhost:8080/"
        },
        "id": "0d56b234",
        "outputId": "a5a9c1d1-fed8-4959-d721-bd6932e40645"
      },
      "outputs": [
        {
          "output_type": "stream",
          "name": "stdout",
          "text": [
            "Iteração    0: Custo 1.24e+04  dj_dw: -6.670e+02, dj_db: -1.205e+02   w:  6.670e+00, b: 1.20500e+00\n",
            "Iteração  300: Custo 7.64e-01  dj_dw: -1.702e-01, dj_db:  9.051e-01   w:  4.969e+01, b: 2.14023e+00\n",
            "Iteração  600: Custo 2.81e-02  dj_dw: -3.265e-02, dj_db:  1.737e-01   w:  4.994e+01, b: 8.14704e-01\n",
            "Iteração  900: Custo 1.04e-03  dj_dw: -6.264e-03, dj_db:  3.332e-02   w:  4.999e+01, b: 5.60381e-01\n",
            "Iteração 1200: Custo 3.81e-05  dj_dw: -1.202e-03, dj_db:  6.393e-03   w:  5.000e+01, b: 5.11585e-01\n",
            "Iteração 1500: Custo 1.40e-06  dj_dw: -2.306e-04, dj_db:  1.227e-03   w:  5.000e+01, b: 5.02223e-01\n",
            "Iteração 1800: Custo 5.17e-08  dj_dw: -4.424e-05, dj_db:  2.353e-04   w:  5.000e+01, b: 5.00426e-01\n",
            "Iteração 2100: Custo 1.90e-09  dj_dw: -8.489e-06, dj_db:  4.515e-05   w:  5.000e+01, b: 5.00082e-01\n",
            "Iteração 2400: Custo 7.00e-11  dj_dw: -1.629e-06, dj_db:  8.664e-06   w:  5.000e+01, b: 5.00016e-01\n",
            "Iteração 2700: Custo 2.58e-12  dj_dw: -3.125e-07, dj_db:  1.662e-06   w:  5.000e+01, b: 5.00003e-01\n",
            "(w,b) Encontrados pelo Método do Gradiente: ( 50.0000,  0.5000)\n"
          ]
        }
      ],
      "source": [
        "# Inicialização de parâmetros\n",
        "w_init = 0\n",
        "b_init = 0\n",
        "# Parametrização do Método do Gradiente:\n",
        "iteracoes = 3000\n",
        "alpha = 1.0e-2\n",
        "# Roda o método do gradiente\n",
        "w_final, b_final, J_hist, p_hist = metodo_do_gradiente(x_trein ,y_trein, w_init, b_init, alpha,\n",
        "                                                    iteracoes, calcula_custo, calcula_gradiente)\n",
        "print(f\"(w,b) Encontrados pelo Método do Gradiente: ({w_final:8.4f},{b_final:8.4f})\")"
      ]
    },
    {
      "cell_type": "markdown",
      "id": "e1f7866a",
      "metadata": {
        "pycharm": {
          "name": "#%% md\n"
        },
        "id": "e1f7866a"
      },
      "source": [
        "Observe algumas características do Método do Gradiente:\n",
        "\n",
        "- O Custo começa elevado e decai rapidamente, conforme vimos na teoria.\n",
        "- As derivadas parciais, `dj_dw`, e `dj_db` também diminuem, inicialmente mais rapidamente e depois mais devagar. Isso acontece porque as derivadas parciais se aproximam de zero à medida com que nos aproximamos do mínimo da função"
      ]
    },
    {
      "cell_type": "markdown",
      "id": "f5b77602",
      "metadata": {
        "pycharm": {
          "name": "#%% md\n"
        },
        "id": "f5b77602"
      },
      "source": [
        "### Custo versus iterações no Método do Gradiente\n",
        "\n",
        "Um gráfico do custo versus iterações é uma métrica interessante para verificarmos o progresso feito pelo método. O custo deve sempre decair ao longo das iterações. A mudança no custo é rápida inicialmente, portanto, é útil plotar as primeiras iterações numa escala diferente das últimas iterações. Observe as escalas usadas nos gráficos abaixo."
      ]
    },
    {
      "cell_type": "code",
      "execution_count": 21,
      "id": "5e8148a8",
      "metadata": {
        "pycharm": {
          "name": "#%%\n"
        },
        "colab": {
          "base_uri": "https://localhost:8080/",
          "height": 428
        },
        "id": "5e8148a8",
        "outputId": "1fe340bc-64c8-431b-ff4a-867ca91652ad"
      },
      "outputs": [
        {
          "output_type": "display_data",
          "data": {
            "text/plain": [
              "<Figure size 1200x400 with 2 Axes>"
            ],
            "image/png": "[encoded data removed]"
          },
          "metadata": {}
        }
      ],
      "source": [
        "# gráficos do custo versus iterações\n",
        "fig, (ax1, ax2) = plt.subplots(1, 2, constrained_layout=True, figsize=(12,4))\n",
        "ax1.plot(J_hist[:100])\n",
        "ax2.plot(500 + np.arange(len(J_hist[500:])), J_hist[500:])\n",
        "ax1.set_title(\"Custo vs. iteração(primeiras iterações)\");  ax2.set_title(\"Custo vs. iteração(últimas iterações)\")\n",
        "ax1.set_ylabel('Custo')            ;  ax2.set_ylabel('Custo')\n",
        "ax1.set_xlabel('iteração')  ;  ax2.set_xlabel('iteração')\n",
        "plt.show()"
      ]
    },
    {
      "cell_type": "markdown",
      "id": "5c5c974e",
      "metadata": {
        "pycharm": {
          "name": "#%% md\n"
        },
        "id": "5c5c974e"
      },
      "source": [
        "### Previsões\n",
        "\n",
        "\n",
        "Agora que você já descobriu os valores ótimos para os parâmetros $w$ e $b$, você pode usar o modelo para prever o valor de tensão do resistor para diferentes valores de corrente.\n",
        "\n",
        "Olhe os exemplos abaixo:\n"
      ]
    },
    {
      "cell_type": "code",
      "execution_count": null,
      "id": "006b13f0",
      "metadata": {
        "pycharm": {
          "name": "#%%\n"
        },
        "colab": {
          "base_uri": "https://localhost:8080/"
        },
        "id": "006b13f0",
        "outputId": "3ec89533-c5eb-4e0a-bd11-282d5fef41b5"
      },
      "outputs": [
        {
          "output_type": "stream",
          "name": "stdout",
          "text": [
            "Para uma corrente de 1 A temos uma tensão esperada de 97.1 Volts\n",
            "Para uma corrente de 2.35 A temos uma tensão esperada de 225.5 Volts\n",
            "Para uma corrente de 3 A temos uma tensão esperada de 287.3 Volts\n"
          ]
        }
      ],
      "source": [
        "print(f\"Para uma corrente de 1 A temos uma tensão esperada de {w_final*1.0 + b_final:0.1f} Volts\")\n",
        "print(f\"Para uma corrente de 2.35 A temos uma tensão esperada de {w_final*2.35 + b_final:0.1f} Volts\")\n",
        "print(f\"Para uma corrente de 3 A temos uma tensão esperada de {w_final*3.0 + b_final:0.1f} Volts\")"
      ]
    },
    {
      "cell_type": "markdown",
      "id": "7dc45f74",
      "metadata": {
        "pycharm": {
          "name": "#%% md\n"
        },
        "id": "7dc45f74"
      },
      "source": [
        "\n",
        "## Parabéns!\n",
        "Você aprendeu o seguinte com esse código:\n",
        "- Detalhes importantes acerca do Método do Gradiente para uma variável\n",
        "- Desenvolveu uma rotina para o cálculo do gradiente\n",
        "- completou a rotina que aplica o Método do Gradiente\n",
        "- Utilizou o Método do Gradiente para encontrar os parâmetros ótimos para um modelo na forma de reta"
      ]
    },
    {
      "cell_type": "code",
      "execution_count": null,
      "id": "924a27ce",
      "metadata": {
        "pycharm": {
          "name": "#%%\n"
        },
        "id": "924a27ce"
      },
      "outputs": [],
      "source": []
    }
  ],
  "metadata": {
    "dl_toc_settings": {
      "rndtag": "40291"
    },
    "kernelspec": {
      "display_name": "Python 3 (ipykernel)",
      "language": "python",
      "name": "python3"
    },
    "language_info": {
      "codemirror_mode": {
        "name": "ipython",
        "version": 3
      },
      "file_extension": ".py",
      "mimetype": "text/x-python",
      "name": "python",
      "nbconvert_exporter": "python",
      "pygments_lexer": "ipython3",
      "version": "3.9.12"
    },
    "toc-autonumbering": false,
    "colab": {
      "provenance": [],
      "include_colab_link": true
    }
  },
  "nbformat": 4,
  "nbformat_minor": 5
}