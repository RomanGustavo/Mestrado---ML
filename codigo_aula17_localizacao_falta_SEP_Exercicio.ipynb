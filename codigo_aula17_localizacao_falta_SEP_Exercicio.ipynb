{
  "cells": [
    {
      "cell_type": "markdown",
      "metadata": {
        "id": "view-in-github",
        "colab_type": "text"
      },
      "source": [
        "<a href=\"https://colab.research.google.com/github/RomanGustavo/Mestrado---ML/blob/main/codigo_aula17_localizacao_falta_SEP_Exercicio.ipynb\" target=\"_parent\"><img src=\"https://colab.research.google.com/assets/colab-badge.svg\" alt=\"Open In Colab\"/></a>"
      ]
    },
    {
      "cell_type": "markdown",
      "metadata": {
        "id": "udyZSKHUdTbT"
      },
      "source": [
        "# Redes neurais para localizar área sob falta de um sistema elétrico de potência\n"
      ]
    },
    {
      "cell_type": "markdown",
      "metadata": {
        "id": "ey8D1_6JdTbj",
        "tags": []
      },
      "source": [
        "## Pacotes:\n",
        "\n",
        "Importaremos aqui os seguintes pacotes:\n",
        "- [numpy](https://numpy.org/) é o pacote fundamental para computação científica com Python\n",
        "- [matplotlib](http://matplotlib.org) é uma biblioteca popular para plotar gráficos em Python\n",
        "- [tensorflow](https://www.tensorflow.org/) é uma plataforma popular para Aprendizado de Máquina em Python"
      ]
    },
    {
      "cell_type": "code",
      "execution_count": 1,
      "metadata": {
        "id": "CPUJlM4wdTbk"
      },
      "outputs": [],
      "source": [
        "import numpy as np\n",
        "import tensorflow as tf\n",
        "from tensorflow.keras.models import Sequential\n",
        "from tensorflow.keras.layers import Dense\n",
        "import matplotlib.pyplot as plt\n",
        "%matplotlib inline\n",
        "# O comando '%matplotlib inline' serve para que os gráficos sejam plotados imediatamente após a célula atual\n",
        "\n",
        "import logging\n",
        "logging.getLogger(\"tensorflow\").setLevel(logging.ERROR)\n",
        "tf.autograph.set_verbosity(0)"
      ]
    },
    {
      "cell_type": "markdown",
      "metadata": {
        "id": "S2z1UcUidTbn",
        "tags": []
      },
      "source": [
        "\n",
        "### Definição do Problema\n",
        "\n",
        "Nessa atividade de programação, você irá usar uma rede neural para localizar qual área de um determinado sistema elétrico (área 1 ou área 2) encontra-se sob falta (curto-circuito monofásico). Trata-se de um problema de classificação binária.\n",
        "\n",
        "### Conjunto de dados\n",
        "\n",
        "Começaremos essa atividade carregando os dados\n",
        "\n",
        "- O conjunto de dados contém 10800 amostras de treinamento de 308 sinais elétricos do sistema. Cada amostra possui um rótulo que informa se essa amostra se refere a um curto-circuito que ocorreu na área 1 do sistema ou na área 2.  \n",
        "\n",
        "    - Cada amostra de treinamento é um instante de tempo onde 308 sinais elétricos do sistema foram medidos (fasores de tensão e de corrente, frequência de operação, fluxos de potência, etc)\n",
        "    - Isso nos leva à matriz X (10800 x 308), onde cada linha é um exemplo de um instante de tempo onde os 308 sinais elétricos do sistema foram medidos.\n",
        "\n",
        "$$X =\n",
        "\\left(\\begin{array}{cc}\n",
        "--- (x^{(1)}) --- \\\\\n",
        "--- (x^{(2)}) --- \\\\\n",
        "\\vdots \\\\\n",
        "--- (x^{(m=10800)}) ---\n",
        "\\end{array}\\right)$$\n",
        "\n",
        "- O conjunto de dados de treinamento também possui vetor `y` com dimensões 10800 x 1. Ele contém os rótulos corretos para as amostras que estão em `X`\n",
        "    - `y = 0` indica que a falta ocorreu na área `1`, e `y = 1` indica que a falta ocorreu na área `2`.\n"
      ]
    },
    {
      "cell_type": "code",
      "execution_count": 2,
      "metadata": {
        "id": "uSZBoXL_dTbp"
      },
      "outputs": [],
      "source": [
        "# Carregando a matriz de características\n",
        "file = open('X.csv')\n",
        "X    = np.loadtxt(file, delimiter=\",\")\n",
        "# Cada linha denota um instante de tempo onde as PMUs (Phasor Measurement Units) fizeram medições.\n",
        "# Cada coluna denota um sinal elétrico diferente medido pela PMU\n",
        "\n",
        "# Carregando vetor de classes (rótulos) correspondente\n",
        "file = open('y.csv')\n",
        "y    = np.loadtxt(file, delimiter=\",\")\n",
        "y    = y.reshape((-1,1))"
      ]
    },
    {
      "cell_type": "markdown",
      "metadata": {
        "id": "mERMHAhOdTbq"
      },
      "source": [
        "\n",
        "#### Olhando as variáveis\n",
        "\n",
        "Vamos agora nos familiarizar com o conjunto de dados.\n",
        "- Uma boa forma para começar é dar print de cada variável e ver o que ela contém\n",
        "\n",
        "O código abaixo dá print dos elementos contidos nas variáveis `X` e `y`"
      ]
    },
    {
      "cell_type": "code",
      "execution_count": 3,
      "metadata": {
        "colab": {
          "base_uri": "https://localhost:8080/"
        },
        "id": "HrXPmfWzdTbr",
        "outputId": "9eaca5f0-6ff4-47ac-8c91-830307cfcf7f",
        "scrolled": true
      },
      "outputs": [
        {
          "output_type": "stream",
          "name": "stdout",
          "text": [
            "O primeiro elemento de X é:  [ 6.0000e+01  1.0061e+00 -1.3667e-01  2.9200e+00 -2.8719e+00 -4.8145e-02\n",
            " -1.9173e+00  1.8966e+00  2.0643e-02  3.2000e+00 -3.1487e+00 -5.1262e-02\n",
            "  1.5300e+00 -1.5158e+00 -1.4190e-02  6.0000e+01  1.0258e+00 -1.1119e-01\n",
            "  3.1364e+00  2.2632e+00 -4.7942e+00 -3.1895e+00 -3.0882e-01  2.8930e+00\n",
            " -6.5488e-01  1.8953e-01  9.8029e-01  2.1653e-01  9.9143e-01 -1.7229e+00\n",
            "  3.2900e+00  2.3004e+00 -5.0267e+00 -3.2957e+00 -4.2702e-01  3.1592e+00\n",
            "  3.2300e-01 -4.4606e-01 -4.7245e-01  1.3255e-01 -9.8263e-01  1.4456e+00\n",
            "  6.0000e+01  1.0252e+00 -1.3135e-01  2.0101e+00  2.3683e-01 -2.2469e+00\n",
            " -3.4909e-01  4.0099e-01 -5.1905e-02  2.1067e+00  1.9014e-01 -2.2968e+00\n",
            "  9.3869e-02 -4.4222e-01  3.4836e-01  6.0000e+01  1.0495e+00 -1.8696e-02\n",
            "  1.1696e+00 -5.9836e+00  4.8140e+00  7.4349e-02  5.9050e-01 -6.6485e-01\n",
            "  1.2262e+00 -6.2910e+00  5.0649e+00 -9.9899e-02 -5.0788e-01  6.0778e-01\n",
            "  6.0000e+01  9.9034e-01 -3.4802e-02  6.2969e+00 -5.0571e+00 -1.2398e+00\n",
            " -1.2613e+00  1.3401e+00 -7.8811e-02  6.2800e+00 -5.0549e+00 -1.2251e+00\n",
            "  1.0300e+00 -1.1512e+00  1.2120e-01  6.0000e+01  1.0295e+00 -6.8014e-02\n",
            "  2.5765e+00 -5.7888e+00  3.2123e+00 -1.2873e+00  1.2420e+00  4.5306e-02\n",
            "  2.7400e+00 -6.0439e+00  3.3039e+00  1.1500e+00 -8.8487e-01 -2.6512e-01\n",
            "  6.0000e+01  1.0497e+00  1.2264e-02  4.1238e-01 -6.2083e+00  5.7960e+00\n",
            " -3.8090e-01  1.3562e+00 -9.7533e-01  4.2818e-01 -6.5000e+00  6.0718e+00\n",
            "  4.0487e-01 -1.4997e+00  1.0948e+00  6.0000e+01  1.0448e+00  8.5809e-03\n",
            "  2.3753e+00  3.3866e+00 -5.3476e+00 -4.1430e-01 -7.9020e-01  2.0794e-02\n",
            "  1.9518e-01  5.7422e-01  2.4750e+00  3.5386e+00 -5.5857e+00 -4.2795e-01\n",
            "  8.4600e-01  7.3345e-03 -2.4982e-01 -6.0351e-01  6.0000e+01  1.0315e+00\n",
            " -1.0964e-01  3.0521e+00  3.1633e-01 -3.3684e+00  5.6750e-01 -9.2148e-01\n",
            "  3.5398e-01  3.0860e+00  4.2732e-01 -3.5133e+00 -9.2000e-01  9.1583e-01\n",
            "  4.1738e-03  6.0000e+01  1.0548e+00 -8.0513e-02  2.0775e+00  6.8239e-01\n",
            " -5.1203e+00  2.3605e+00 -6.0608e-01  1.1006e-01 -2.1412e-01  7.1014e-01\n",
            "  2.2400e+00  7.1089e-01 -5.3834e+00  2.4326e+00  4.7200e-01 -1.7103e-01\n",
            "  6.3810e-01 -9.3907e-01  6.0000e+01  1.0475e+00 -1.0137e-01  1.2991e+00\n",
            "  2.4237e+00 -1.3119e+00 -1.7752e+00 -6.3573e-01 -2.8803e-01 -8.9624e-01\n",
            "  3.3725e-01  4.1786e-01  4.2915e-01  1.3900e+00  2.6296e+00 -1.4083e+00\n",
            " -1.9019e+00 -7.0941e-01  1.7000e-01  6.9307e-01 -2.2026e-01 -2.5772e-01\n",
            " -3.8507e-01  6.0000e+01  1.0291e+00 -1.3539e-01  2.5893e+00 -1.9394e-01\n",
            " -2.3954e+00 -1.0744e+00 -7.0653e-02  1.1450e+00  2.8100e+00 -1.9001e-01\n",
            " -2.6200e+00  7.5500e-01  9.8964e-02 -8.5396e-01  6.0000e+01  1.0499e+00\n",
            " -3.7009e-02  1.9504e+00 -3.3163e+00  1.3659e+00 -3.3164e-01 -1.4928e-01\n",
            "  4.8092e-01  2.0600e+00 -3.4762e+00  1.4162e+00  2.7600e-01  2.7946e-01\n",
            " -5.5546e-01  6.0000e+01  1.0503e+00  1.3529e-02  2.7021e+00 -7.8417e+00\n",
            "  1.8204e+00  3.3192e+00 -2.2131e-01 -8.5088e-01  6.6144e-01  4.1075e-01\n",
            "  2.8350e+00 -8.2477e+00  1.9210e+00  3.4918e+00  2.6900e-01  7.8759e-01\n",
            " -6.7008e-01 -3.8651e-01  6.0000e+01  9.9432e-01  7.3000e-02 -6.4025e+00\n",
            "  6.4025e+00  6.3183e-01 -6.3183e-01 -6.3200e+00  6.3200e+00 -1.0956e+00\n",
            "  1.0956e+00  6.0000e+01  1.0104e+00  5.6139e-02 -5.1026e+00  5.1026e+00\n",
            "  1.3522e+00 -1.3522e+00 -5.0800e+00  5.0800e+00 -1.6528e+00  1.6528e+00\n",
            "  6.0000e+01  1.0439e+00  1.0296e-01 -6.3636e+00  6.3636e+00  1.3901e+00\n",
            " -1.3901e+00 -6.5000e+00  6.5000e+00 -2.1064e+00  2.1064e+00  6.0000e+01\n",
            "  1.0528e+00  1.5394e-01 -5.3477e+00  5.3477e+00  1.9519e-01 -1.9519e-01\n",
            " -5.6000e+00  5.6000e+00 -1.0287e+00  1.0287e+00  6.0000e+01  1.0271e+00\n",
            "  4.3344e-02 -5.2483e+00  5.2483e+00 -2.1947e-01  2.1947e-01 -5.4000e+00\n",
            "  5.4000e+00 -2.0640e-03  2.0640e-03  6.0000e+01  1.0175e+00  1.3929e-01\n",
            " -8.0378e+00  8.0378e+00 -8.7215e-01  8.7215e-01 -8.3000e+00  8.3000e+00\n",
            " -2.3212e-01  2.3212e-01]\n"
          ]
        }
      ],
      "source": [
        "print ('O primeiro elemento de X é: ', X[0])"
      ]
    },
    {
      "cell_type": "code",
      "execution_count": 4,
      "metadata": {
        "colab": {
          "base_uri": "https://localhost:8080/"
        },
        "id": "r5Kc7STodTbt",
        "outputId": "0137deac-119c-4178-ac10-e3ec46a8c228"
      },
      "outputs": [
        {
          "output_type": "stream",
          "name": "stdout",
          "text": [
            "O primeiro elemento de y é:  0.0    ---> Ou seja, trata-se da amostra de um evento que ocorreu na área 1\n",
            "O elemento 1000 de y é    :  1.0    ---> Ou seja, trata-se da amostra de um evento que ocorreu na área 2\n"
          ]
        }
      ],
      "source": [
        "print ('O primeiro elemento de y é: ', y[0,0], '   ---> Ou seja, trata-se da amostra de um evento que ocorreu na área 1')\n",
        "print ('O elemento 1000 de y é    : ', y[1000,0], '   ---> Ou seja, trata-se da amostra de um evento que ocorreu na área 2')"
      ]
    },
    {
      "cell_type": "markdown",
      "metadata": {
        "id": "4FhTvnSRdTbu"
      },
      "source": [
        "\n",
        "#### Apenas checando as dimensões das nossas variáveis\n",
        "\n",
        "Uma outra forma de nos familiarizarmos com os nossos dados é verificar suas dimensões."
      ]
    },
    {
      "cell_type": "code",
      "execution_count": 5,
      "metadata": {
        "colab": {
          "base_uri": "https://localhost:8080/"
        },
        "id": "PVW69HsJdTbv",
        "outputId": "97352887-60a4-4728-cec3-0ac97f62d219"
      },
      "outputs": [
        {
          "output_type": "stream",
          "name": "stdout",
          "text": [
            "O shape de X é: (10800, 308)\n",
            "O shape de y é: (10800, 1)\n"
          ]
        }
      ],
      "source": [
        "print ('O shape de X é: ' + str(X.shape))\n",
        "print ('O shape de y é: ' + str(y.shape))"
      ]
    },
    {
      "cell_type": "markdown",
      "metadata": {
        "id": "ZmKv5f9qc79A"
      },
      "source": [
        "Abaixo Padronizamos os dados usando uma camada de normalização Tensorflow (normalização Z-Score)"
      ]
    },
    {
      "cell_type": "code",
      "execution_count": 6,
      "metadata": {
        "id": "_shqlFmCc79A"
      },
      "outputs": [],
      "source": [
        "camada_norm = tf.keras.layers.Normalization(axis=-1)\n",
        "camada_norm.adapt(X)  # calcula média e variância\n",
        "X_norm = camada_norm(X) # características normalizadas"
      ]
    },
    {
      "cell_type": "markdown",
      "metadata": {
        "id": "bmZ7UjhRdTbx"
      },
      "source": [
        "\n",
        "### Representação do modelo\n",
        "\n",
        "- A rede neural que você irá usar deve possuir 3 camadas do tipo `dense` com ativações do tipo relu e linear.\n",
        "  - lembre-se que nossas entradas são os valores dos sinais elétricos medidos em diferentes pontos do sistema\n",
        "  - Uma vez que 308 sinais elétricos foram medidos, temos um total de $308$ características de entrada\n",
        "    "
      ]
    },
    {
      "cell_type": "markdown",
      "metadata": {
        "id": "MnA8V6eYdTby"
      },
      "source": [
        "- A rede neural deve ter $10$ unidades na camada 1, $5$ unidades na camada 2 e $1$ unidade de saída na camada 3.\n",
        "\n",
        "    - Lembre-se que as dimensões dos parâmetros de cada camada são conforme a seguir:\n",
        "        - Se a rede possui numa camada com $s_{out}$ unidades e $s_{in}$ entradas, então\n",
        "            - $W$ terá dimensão $s_{in} \\times s_{out}$.\n",
        "            - $b$ será um vetor com $s_{out}$ elementos\n",
        "  \n",
        "    - Portanto, os shapes de `W` e `b` são:\n",
        "        - Camada 1: O shape de `W1` é (308, 10) e o shape de `b1` é (10,)\n",
        "        - Camada 2: O shape de `W2` é (10,5) e o shape de `b2` é (5,)\n",
        "        - Camada 3: O shape de `W3` é (5,1) e o shape de `b3` é (1,)\n",
        "        \n",
        ">**OBS:** O vetor de bias `b` poderia ser representado como uma array 1-D (n,) ou 2-D (n,1). Tensorflow usa uma representação 1-D e iremos manter essa convenção.               "
      ]
    },
    {
      "cell_type": "markdown",
      "metadata": {
        "id": "lNS4j5UvdTbz"
      },
      "source": [
        "\n",
        "### Implementação do modelo usando Tensorflow\n"
      ]
    },
    {
      "cell_type": "markdown",
      "metadata": {
        "id": "1pWhBbwbdTb1"
      },
      "source": [
        "Abaixo, usamos as funções [Sequential model](https://keras.io/guides/sequential_model/) e [Dense Layer](https://keras.io/api/layers/core_layers/dense/) do Keras para construir a rede desejada."
      ]
    },
    {
      "cell_type": "code",
      "source": [
        "\n",
        "from tensorflow.keras import regularizers\n",
        "\n",
        "modelo = Sequential(\n",
        "    [\n",
        "        tf.keras.Input(shape=(308,)),\n",
        "        # rede um pouco maior + L2 leve + dropout baixo\n",
        "        tf.keras.layers.Dense(128, activation=\"relu\",\n",
        "                              kernel_regularizer=regularizers.l2(1e-4)),\n",
        "        tf.keras.layers.Dropout(0.20),\n",
        "        tf.keras.layers.Dense(64, activation=\"relu\",\n",
        "                              kernel_regularizer=regularizers.l2(1e-4)),\n",
        "        tf.keras.layers.Dropout(0.10),\n",
        "        tf.keras.layers.Dense(1, activation=\"sigmoid\"),\n",
        "    ],\n",
        "    name=\"meu_modelo\"\n",
        ")\n",
        "\n",
        "modelo.compile(\n",
        "    loss=tf.keras.losses.BinaryCrossentropy(),\n",
        "    optimizer=tf.keras.optimizers.Adam(learning_rate=1e-3),\n",
        "    metrics=[\"accuracy\"],\n",
        ")\n",
        "\n",
        "# EarlyStopping simples\n",
        "es = tf.keras.callbacks.EarlyStopping(\n",
        "    monitor=\"val_loss\", patience=12, restore_best_weights=True\n",
        ")\n",
        "\n",
        "history = modelo.fit(\n",
        "    X_norm, y,               # usa os MESMOS dados já normalizados\n",
        "    epochs=200,              # mais épocas, mas com early stopping\n",
        "    batch_size=256,\n",
        "    validation_split=0.15,   # validação interna só para o early stopping\n",
        "    callbacks=[es],\n",
        "    verbose=0\n",
        ")\n"
      ],
      "metadata": {
        "id": "0mAYfvNbdzi5"
      },
      "execution_count": 16,
      "outputs": []
    },
    {
      "cell_type": "markdown",
      "metadata": {
        "id": "suqnzkuJdTb-"
      },
      "source": [
        "Abaixo calculamos a taxa de acerto para os dados de estimação"
      ]
    },
    {
      "cell_type": "code",
      "execution_count": 17,
      "metadata": {
        "colab": {
          "base_uri": "https://localhost:8080/"
        },
        "id": "a2Z63V6PdTb_",
        "outputId": "a8328921-ed90-4b46-b928-65e4ef6fce71"
      },
      "outputs": [
        {
          "output_type": "stream",
          "name": "stdout",
          "text": [
            "taxa de acerto para os dados de estimação: 91.31481481481481\n"
          ]
        }
      ],
      "source": [
        "Probabilidades  = modelo(X_norm)\n",
        "Yhat            = (Probabilidades.numpy() >= 0.5).astype(int)\n",
        "taxa_acerto_est = np.mean((Yhat==y)*100)\n",
        "print(f\"taxa de acerto para os dados de estimação: {taxa_acerto_est}\")"
      ]
    },
    {
      "cell_type": "markdown",
      "metadata": {
        "id": "hfnczqLFc79F"
      },
      "source": [
        "## Validando nosso modelo de localização de falta usando novos dados de falta\n",
        "\n",
        "\n",
        "Abaixo calculamos a taxa de acerto para um novo conjunto de dados de eventos com 4800 amostras para verificarmos se o nosso modelo consegue acertar em qual área esse evento ocorreu, mesmo que ele não tenha tido acesso a dados desses eventos durante seu treinamento."
      ]
    },
    {
      "cell_type": "code",
      "execution_count": 18,
      "metadata": {
        "colab": {
          "base_uri": "https://localhost:8080/"
        },
        "id": "afxrxKXGc79F",
        "outputId": "a166328d-3db2-4012-e40d-df95bfe55f63"
      },
      "outputs": [
        {
          "output_type": "stream",
          "name": "stdout",
          "text": [
            "taxa de acerto (acurácia) para os dados de validação: 71.4375\n"
          ]
        }
      ],
      "source": [
        "# Carregando a matriz de características\n",
        "file = open('X_val.csv')\n",
        "X_val    = np.loadtxt(file, delimiter=\",\")\n",
        "\n",
        "file = open('y_val.csv')\n",
        "y_val    = np.loadtxt(file, delimiter=\",\")\n",
        "y_val    = y_val.reshape((-1,1))\n",
        "\n",
        "# Aplicando a camada de normalização para esses novos dados:\n",
        "X_val_norm  = camada_norm(X_val)\n",
        "\n",
        "Probabilidades  = modelo(X_val_norm)\n",
        "Yhat            = (Probabilidades.numpy() >= 0.5).astype(int)\n",
        "taxa_acerto_val = np.mean((Yhat==y_val.reshape(-1,1))*100)\n",
        "print(f\"taxa de acerto (acurácia) para os dados de validação: {taxa_acerto_val}\")\n"
      ]
    },
    {
      "cell_type": "markdown",
      "metadata": {
        "id": "GBtk852AdTcQ"
      },
      "source": [
        "\n",
        "### Parabéns!\n",
        "\n",
        "Você construiu e utilizou uma rede neural para classificação binária que é capaz de localizar a área sob falta em um sistema elétrico!"
      ]
    },
    {
      "cell_type": "markdown",
      "source": [
        "- Por que resultados ligeiramente diferentes são obtidos cada vez que o código é rodado?\n",
        "\n",
        "Os resultados mudam a cada execução porque o treinamento da rede neural envolve aleatoriedade: os pesos iniciais são sorteados de forma aleatória e os dados são embaralhados a cada época. Isso faz com que o otimizador siga trajetórias diferentes no espaço de soluções, resultando em pequenas variações no desempenho final."
      ],
      "metadata": {
        "id": "hpYg1jpNadQ5"
      }
    },
    {
      "cell_type": "code",
      "execution_count": 14,
      "metadata": {
        "id": "AfAhTMXgc79G"
      },
      "outputs": [],
      "source": []
    }
  ],
  "metadata": {
    "colab": {
      "provenance": [],
      "include_colab_link": true
    },
    "dl_toc_settings": {
      "rndtag": "89367"
    },
    "kernelspec": {
      "display_name": "Python 3 (ipykernel)",
      "language": "python",
      "name": "python3"
    },
    "language_info": {
      "codemirror_mode": {
        "name": "ipython",
        "version": 3
      },
      "file_extension": ".py",
      "mimetype": "text/x-python",
      "name": "python",
      "nbconvert_exporter": "python",
      "pygments_lexer": "ipython3",
      "version": "3.9.12"
    }
  },
  "nbformat": 4,
  "nbformat_minor": 0
}