{
  "cells": [
    {
      "cell_type": "markdown",
      "metadata": {
        "id": "view-in-github",
        "colab_type": "text"
      },
      "source": [
        "<a href=\"https://colab.research.google.com/github/RomanGustavo/Mestrado---ML/blob/main/codigo_aula23_classificacao_desbalanceada_ROC_AUC.ipynb\" target=\"_parent\"><img src=\"https://colab.research.google.com/assets/colab-badge.svg\" alt=\"Open In Colab\"/></a>"
      ]
    },
    {
      "cell_type": "markdown",
      "metadata": {
        "id": "cnRpPyBvdrWW"
      },
      "source": [
        "# Classificação desbalanceada (Escolha do valor de limiar para classicação e cálculo das métricas ROC e AUC)\n",
        "\n",
        "Esse notebook é uma tradução e adaptação do exemplo apresentado [no site do Keras](https://keras.io/examples/structured_data/imbalanced_classification/), criado por [fchollet](https://twitter.com/fchollet), e que utiliza essa base de dados do Kaggle [aqui](https://www.kaggle.com/datasets/mlg-ulb/creditcardfraud).\n"
      ]
    },
    {
      "cell_type": "markdown",
      "metadata": {
        "id": "tjLuu-SCdrWc"
      },
      "source": [
        "## Introdução\n",
        "\n",
        "Este exemplo mostra como treinar um modelo classificador quando os dados são altamente desbalanceados. O objetivo é treinar uma rede neural capaz de identificar operações financeiras fraudulentas."
      ]
    },
    {
      "cell_type": "markdown",
      "metadata": {
        "id": "GuR9jf80drWd"
      },
      "source": [
        "## Vetorizando os dados CSV"
      ]
    },
    {
      "cell_type": "code",
      "execution_count": 6,
      "metadata": {
        "colab": {
          "base_uri": "https://localhost:8080/"
        },
        "id": "C2Anb2pbdrWe",
        "outputId": "5b8b9b93-8959-40d1-93ae-6270dec3fd23"
      },
      "outputs": [
        {
          "output_type": "stream",
          "name": "stdout",
          "text": [
            "CABECALHO: Time,V1,V2,V3,V4,V5,V6,V7,V8,V9,V10,V11,V12,V13,V14,V15,V16,V17,V18,V19,V20,V21,V22,V23,V24,V25,V26,V27,V28,Amount,Class\n",
            "CARACTERISTICAS: [0.0, -1.3598071336738, -0.0727811733098497, 2.53634673796914, 1.37815522427443, -0.338320769942518, 0.462387777762292, 0.239598554061257, 0.0986979012610507, 0.363786969611213, 0.0907941719789316, -0.551599533260813, -0.617800855762348, -0.991389847235408, -0.311169353699879, 1.46817697209427, -0.470400525259478, 0.207971241929242, 0.0257905801985591, 0.403992960255733, 0.251412098239705, -0.018306777944153, 0.277837575558899, -0.110473910188767, 0.0669280749146731, 0.128539358273528, -0.189114843888824, 0.133558376740387, -0.0210530534538215, 149.62]\n",
            "caracteristicas.shape: (284807, 30)\n",
            "valores_alvo.shape: (284807, 1)\n"
          ]
        }
      ],
      "source": [
        "import csv\n",
        "import numpy as np\n",
        "\n",
        "fname = \"creditcard.csv\"\n",
        "\n",
        "todas_caracteristicas = []\n",
        "todos_rotulos = []\n",
        "\n",
        "with open(fname, \"r\", newline=\"\", encoding=\"utf-8-sig\") as f:\n",
        "    # 1) Detecta delimitador (vírgula ou ponto-e-vírgula)\n",
        "    sample = f.read(4096)\n",
        "    try:\n",
        "        dialect = csv.Sniffer().sniff(sample, delimiters=\",;\")\n",
        "    except csv.Error:\n",
        "        dialect = csv.get_dialect(\"excel\")\n",
        "    f.seek(0)\n",
        "\n",
        "    reader = csv.reader(f, dialect)\n",
        "    header = next(reader)\n",
        "\n",
        "    # 2) Normaliza cabeçalho (tira aspas/espacos) e acha o índice de 'Class'\n",
        "    header = [h.strip().strip('\"') for h in header]\n",
        "    try:\n",
        "        class_idx = header.index(\"Class\")\n",
        "    except ValueError:\n",
        "        raise RuntimeError(\"Coluna 'Class' não encontrada no cabeçalho.\")\n",
        "\n",
        "    feat_idx = [i for i in range(len(header)) if i != class_idx]\n",
        "\n",
        "    print(\"CABECALHO:\", \",\".join(header))\n",
        "\n",
        "    for i, fields in enumerate(reader):\n",
        "        # 3) Normaliza campos (tira aspas/espacos)\n",
        "        fields = [c.strip().strip('\"') for c in fields]\n",
        "\n",
        "        # 4) Lê rótulo pela COLUNA 'Class' (não pela última posição)\n",
        "        label_str = fields[class_idx]\n",
        "        # aceita '0', '1', '0.0', '1.0'\n",
        "        try:\n",
        "            label = int(float(label_str))\n",
        "            if label not in (0, 1):\n",
        "                raise ValueError\n",
        "        except ValueError:\n",
        "            raise ValueError(f\"Linha {i+2}: rótulo inválido na coluna 'Class': {label_str!r}\")\n",
        "\n",
        "        # 5) Lê features; tolera vírgula como separador decimal\n",
        "        try:\n",
        "            feat_row = [float(fields[j].replace(\",\", \".\")) for j in feat_idx]\n",
        "        except ValueError as e:\n",
        "            raise ValueError(f\"Linha {i+2}: erro convertendo features. Exemplo de valor: {fields[j]!r}\") from e\n",
        "\n",
        "        todos_rotulos.append([label])\n",
        "        todas_caracteristicas.append(feat_row)\n",
        "\n",
        "        if i == 0:\n",
        "            print(\"CARACTERISTICAS:\", feat_row)\n",
        "\n",
        "caracteristicas = np.array(todas_caracteristicas, dtype=\"float32\")\n",
        "valores_alvo    = np.array(todos_rotulos, dtype=\"uint8\")\n",
        "\n",
        "print(\"caracteristicas.shape:\", caracteristicas.shape)\n",
        "print(\"valores_alvo.shape:\", valores_alvo.shape)\n"
      ]
    },
    {
      "cell_type": "markdown",
      "metadata": {
        "id": "0rNISdjydrWg"
      },
      "source": [
        "## Preparando os dados"
      ]
    },
    {
      "cell_type": "code",
      "execution_count": 7,
      "metadata": {
        "colab": {
          "base_uri": "https://localhost:8080/"
        },
        "id": "E1DVxQk1drWh",
        "outputId": "d3c15fe3-c9e3-4f03-eea2-1ce171835b62"
      },
      "outputs": [
        {
          "output_type": "stream",
          "name": "stdout",
          "text": [
            "Número de amostras de treinamento: 227846\n",
            "Número de amostras de validação: 56961\n"
          ]
        }
      ],
      "source": [
        "num_amostras_validacao = int(len(caracteristicas) * 0.2) # deixaremos 20% dos dados para validação\n",
        "X_trein = caracteristicas[:-num_amostras_validacao]\n",
        "y_trein = valores_alvo[:-num_amostras_validacao]\n",
        "X_val   = caracteristicas[-num_amostras_validacao:]\n",
        "y_val   = valores_alvo[-num_amostras_validacao:]\n",
        "\n",
        "print(\"Número de amostras de treinamento:\", len(X_trein))\n",
        "print(\"Número de amostras de validação:\", len(X_val))"
      ]
    },
    {
      "cell_type": "markdown",
      "metadata": {
        "id": "CnDCSu7zdrWh"
      },
      "source": [
        "## Análise do desbalanceamento nos rótulos e atribuição de pesos diferentes"
      ]
    },
    {
      "cell_type": "code",
      "execution_count": 8,
      "metadata": {
        "colab": {
          "base_uri": "https://localhost:8080/"
        },
        "id": "nMiBYrdGdrWi",
        "outputId": "d85495b8-e0c3-4216-8b41-0607b2426d1d"
      },
      "outputs": [
        {
          "output_type": "stream",
          "name": "stdout",
          "text": [
            "[227429    417]\n",
            "Número de amostras positivas no conjunto de dados: 417 (0.18% do total)\n",
            "Peso para classe 0: 4.396976638863118e-06\n",
            "Peso para classe 1: 0.002398081534772182\n"
          ]
        }
      ],
      "source": [
        "qtdade_amostras_cada_classe = np.bincount(y_trein[:, 0]) # função do numpy que conta a quantidade de amostras para cada classe\n",
        "print(qtdade_amostras_cada_classe)\n",
        "print(\n",
        "    \"Número de amostras positivas no conjunto de dados: {} ({:.2f}% do total)\".format(\n",
        "        qtdade_amostras_cada_classe[1], 100 * float(qtdade_amostras_cada_classe[1]) / len(y_trein)\n",
        "    )\n",
        ")\n",
        "\n",
        "peso_classe_0 = 1.0 / qtdade_amostras_cada_classe[0]\n",
        "peso_classe_1 = 1.0 / qtdade_amostras_cada_classe[1]\n",
        "\n",
        "print(\"Peso para classe 0:\", peso_classe_0 )\n",
        "print(\"Peso para classe 1:\", peso_classe_1 )\n",
        "\n",
        "pesos_classes = {0: peso_classe_0, 1: peso_classe_1} # cria um dicionário com o peso de cada classe"
      ]
    },
    {
      "cell_type": "markdown",
      "metadata": {
        "id": "e-E-Ra1wdrWj"
      },
      "source": [
        "## Normalizando os dados usando média e desvio padrão"
      ]
    },
    {
      "cell_type": "code",
      "execution_count": 9,
      "metadata": {
        "id": "sdg1DpuhdrWj"
      },
      "outputs": [],
      "source": [
        "media    = np.mean(X_trein, axis=0)\n",
        "X_trein -= media\n",
        "X_val   -= media\n",
        "desvio   = np.std(X_trein, axis=0)\n",
        "X_trein /= desvio\n",
        "X_val   /= desvio"
      ]
    },
    {
      "cell_type": "markdown",
      "metadata": {
        "id": "C8BviQ2GdrWj"
      },
      "source": [
        "## Criando uma rede neural para classificação binária"
      ]
    },
    {
      "cell_type": "code",
      "execution_count": 10,
      "metadata": {
        "colab": {
          "base_uri": "https://localhost:8080/",
          "height": 272
        },
        "id": "l6E71AoqdrWk",
        "outputId": "482de522-de84-400b-fa29-ed256a68fbe3"
      },
      "outputs": [
        {
          "output_type": "display_data",
          "data": {
            "text/plain": [
              "\u001b[1mModel: \"sequential\"\u001b[0m\n"
            ],
            "text/html": [
              "<pre style=\"white-space:pre;overflow-x:auto;line-height:normal;font-family:Menlo,'DejaVu Sans Mono',consolas,'Courier New',monospace\"><span style=\"font-weight: bold\">Model: \"sequential\"</span>\n",
              "</pre>\n"
            ]
          },
          "metadata": {}
        },
        {
          "output_type": "display_data",
          "data": {
            "text/plain": [
              "┏━━━━━━━━━━━━━━━━━━━━━━━━━━━━━━━━━┳━━━━━━━━━━━━━━━━━━━━━━━━┳━━━━━━━━━━━━━━━┓\n",
              "┃\u001b[1m \u001b[0m\u001b[1mLayer (type)                   \u001b[0m\u001b[1m \u001b[0m┃\u001b[1m \u001b[0m\u001b[1mOutput Shape          \u001b[0m\u001b[1m \u001b[0m┃\u001b[1m \u001b[0m\u001b[1m      Param #\u001b[0m\u001b[1m \u001b[0m┃\n",
              "┡━━━━━━━━━━━━━━━━━━━━━━━━━━━━━━━━━╇━━━━━━━━━━━━━━━━━━━━━━━━╇━━━━━━━━━━━━━━━┩\n",
              "│ dense (\u001b[38;5;33mDense\u001b[0m)                   │ (\u001b[38;5;45mNone\u001b[0m, \u001b[38;5;34m256\u001b[0m)            │         \u001b[38;5;34m7,936\u001b[0m │\n",
              "├─────────────────────────────────┼────────────────────────┼───────────────┤\n",
              "│ dense_1 (\u001b[38;5;33mDense\u001b[0m)                 │ (\u001b[38;5;45mNone\u001b[0m, \u001b[38;5;34m256\u001b[0m)            │        \u001b[38;5;34m65,792\u001b[0m │\n",
              "├─────────────────────────────────┼────────────────────────┼───────────────┤\n",
              "│ dense_2 (\u001b[38;5;33mDense\u001b[0m)                 │ (\u001b[38;5;45mNone\u001b[0m, \u001b[38;5;34m256\u001b[0m)            │        \u001b[38;5;34m65,792\u001b[0m │\n",
              "├─────────────────────────────────┼────────────────────────┼───────────────┤\n",
              "│ dense_3 (\u001b[38;5;33mDense\u001b[0m)                 │ (\u001b[38;5;45mNone\u001b[0m, \u001b[38;5;34m1\u001b[0m)              │           \u001b[38;5;34m257\u001b[0m │\n",
              "└─────────────────────────────────┴────────────────────────┴───────────────┘\n"
            ],
            "text/html": [
              "<pre style=\"white-space:pre;overflow-x:auto;line-height:normal;font-family:Menlo,'DejaVu Sans Mono',consolas,'Courier New',monospace\">┏━━━━━━━━━━━━━━━━━━━━━━━━━━━━━━━━━┳━━━━━━━━━━━━━━━━━━━━━━━━┳━━━━━━━━━━━━━━━┓\n",
              "┃<span style=\"font-weight: bold\"> Layer (type)                    </span>┃<span style=\"font-weight: bold\"> Output Shape           </span>┃<span style=\"font-weight: bold\">       Param # </span>┃\n",
              "┡━━━━━━━━━━━━━━━━━━━━━━━━━━━━━━━━━╇━━━━━━━━━━━━━━━━━━━━━━━━╇━━━━━━━━━━━━━━━┩\n",
              "│ dense (<span style=\"color: #0087ff; text-decoration-color: #0087ff\">Dense</span>)                   │ (<span style=\"color: #00d7ff; text-decoration-color: #00d7ff\">None</span>, <span style=\"color: #00af00; text-decoration-color: #00af00\">256</span>)            │         <span style=\"color: #00af00; text-decoration-color: #00af00\">7,936</span> │\n",
              "├─────────────────────────────────┼────────────────────────┼───────────────┤\n",
              "│ dense_1 (<span style=\"color: #0087ff; text-decoration-color: #0087ff\">Dense</span>)                 │ (<span style=\"color: #00d7ff; text-decoration-color: #00d7ff\">None</span>, <span style=\"color: #00af00; text-decoration-color: #00af00\">256</span>)            │        <span style=\"color: #00af00; text-decoration-color: #00af00\">65,792</span> │\n",
              "├─────────────────────────────────┼────────────────────────┼───────────────┤\n",
              "│ dense_2 (<span style=\"color: #0087ff; text-decoration-color: #0087ff\">Dense</span>)                 │ (<span style=\"color: #00d7ff; text-decoration-color: #00d7ff\">None</span>, <span style=\"color: #00af00; text-decoration-color: #00af00\">256</span>)            │        <span style=\"color: #00af00; text-decoration-color: #00af00\">65,792</span> │\n",
              "├─────────────────────────────────┼────────────────────────┼───────────────┤\n",
              "│ dense_3 (<span style=\"color: #0087ff; text-decoration-color: #0087ff\">Dense</span>)                 │ (<span style=\"color: #00d7ff; text-decoration-color: #00d7ff\">None</span>, <span style=\"color: #00af00; text-decoration-color: #00af00\">1</span>)              │           <span style=\"color: #00af00; text-decoration-color: #00af00\">257</span> │\n",
              "└─────────────────────────────────┴────────────────────────┴───────────────┘\n",
              "</pre>\n"
            ]
          },
          "metadata": {}
        },
        {
          "output_type": "display_data",
          "data": {
            "text/plain": [
              "\u001b[1m Total params: \u001b[0m\u001b[38;5;34m139,777\u001b[0m (546.00 KB)\n"
            ],
            "text/html": [
              "<pre style=\"white-space:pre;overflow-x:auto;line-height:normal;font-family:Menlo,'DejaVu Sans Mono',consolas,'Courier New',monospace\"><span style=\"font-weight: bold\"> Total params: </span><span style=\"color: #00af00; text-decoration-color: #00af00\">139,777</span> (546.00 KB)\n",
              "</pre>\n"
            ]
          },
          "metadata": {}
        },
        {
          "output_type": "display_data",
          "data": {
            "text/plain": [
              "\u001b[1m Trainable params: \u001b[0m\u001b[38;5;34m139,777\u001b[0m (546.00 KB)\n"
            ],
            "text/html": [
              "<pre style=\"white-space:pre;overflow-x:auto;line-height:normal;font-family:Menlo,'DejaVu Sans Mono',consolas,'Courier New',monospace\"><span style=\"font-weight: bold\"> Trainable params: </span><span style=\"color: #00af00; text-decoration-color: #00af00\">139,777</span> (546.00 KB)\n",
              "</pre>\n"
            ]
          },
          "metadata": {}
        },
        {
          "output_type": "display_data",
          "data": {
            "text/plain": [
              "\u001b[1m Non-trainable params: \u001b[0m\u001b[38;5;34m0\u001b[0m (0.00 B)\n"
            ],
            "text/html": [
              "<pre style=\"white-space:pre;overflow-x:auto;line-height:normal;font-family:Menlo,'DejaVu Sans Mono',consolas,'Courier New',monospace\"><span style=\"font-weight: bold\"> Non-trainable params: </span><span style=\"color: #00af00; text-decoration-color: #00af00\">0</span> (0.00 B)\n",
              "</pre>\n"
            ]
          },
          "metadata": {}
        }
      ],
      "source": [
        "import keras\n",
        "\n",
        "modelo = keras.Sequential(\n",
        "    [\n",
        "        keras.Input(shape=X_trein.shape[1:]),\n",
        "        keras.layers.Dense(256, activation=\"relu\"),\n",
        "        keras.layers.Dense(256, activation=\"relu\"),\n",
        "        keras.layers.Dense(256, activation=\"relu\"),\n",
        "        keras.layers.Dense(1, activation=\"sigmoid\"),\n",
        "    ]\n",
        ")\n",
        "modelo.summary()"
      ]
    },
    {
      "cell_type": "markdown",
      "metadata": {
        "id": "_z_1oXeEdrWk"
      },
      "source": [
        "## Treinando o modelo levando em conta o desbalaceamento entre as classes"
      ]
    },
    {
      "cell_type": "code",
      "source": [
        "modelo.compile(optimizer=keras.optimizers.Adam(1e-2), loss=\"binary_crossentropy\")\n",
        "\n",
        "modelo.fit(\n",
        "    X_trein,\n",
        "    y_trein,\n",
        "    batch_size=2048, # define a quantidade de amostras de cada \"mini-lote\" (se comentarmos essa linha, será usado o padrão de 32 amostras por mini-lote)\n",
        "    epochs=30,\n",
        "    class_weight=pesos_classes,\n",
        ")"
      ],
      "metadata": {
        "colab": {
          "base_uri": "https://localhost:8080/"
        },
        "id": "f1c8WPjm4OAP",
        "outputId": "57cce9be-16c5-4d45-d2c1-fd0e4e5a6930"
      },
      "execution_count": 11,
      "outputs": [
        {
          "output_type": "stream",
          "name": "stdout",
          "text": [
            "Epoch 1/30\n",
            "\u001b[1m112/112\u001b[0m \u001b[32m━━━━━━━━━━━━━━━━━━━━\u001b[0m\u001b[37m\u001b[0m \u001b[1m4s\u001b[0m 11ms/step - loss: 2.5738e-06\n",
            "Epoch 2/30\n",
            "\u001b[1m112/112\u001b[0m \u001b[32m━━━━━━━━━━━━━━━━━━━━\u001b[0m\u001b[37m\u001b[0m \u001b[1m0s\u001b[0m 3ms/step - loss: 1.5472e-06\n",
            "Epoch 3/30\n",
            "\u001b[1m112/112\u001b[0m \u001b[32m━━━━━━━━━━━━━━━━━━━━\u001b[0m\u001b[37m\u001b[0m \u001b[1m0s\u001b[0m 3ms/step - loss: 1.2045e-06\n",
            "Epoch 4/30\n",
            "\u001b[1m112/112\u001b[0m \u001b[32m━━━━━━━━━━━━━━━━━━━━\u001b[0m\u001b[37m\u001b[0m \u001b[1m0s\u001b[0m 3ms/step - loss: 1.0246e-06\n",
            "Epoch 5/30\n",
            "\u001b[1m112/112\u001b[0m \u001b[32m━━━━━━━━━━━━━━━━━━━━\u001b[0m\u001b[37m\u001b[0m \u001b[1m0s\u001b[0m 3ms/step - loss: 6.5794e-07\n",
            "Epoch 6/30\n",
            "\u001b[1m112/112\u001b[0m \u001b[32m━━━━━━━━━━━━━━━━━━━━\u001b[0m\u001b[37m\u001b[0m \u001b[1m0s\u001b[0m 3ms/step - loss: 6.2279e-07\n",
            "Epoch 7/30\n",
            "\u001b[1m112/112\u001b[0m \u001b[32m━━━━━━━━━━━━━━━━━━━━\u001b[0m\u001b[37m\u001b[0m \u001b[1m0s\u001b[0m 3ms/step - loss: 6.4914e-07\n",
            "Epoch 8/30\n",
            "\u001b[1m112/112\u001b[0m \u001b[32m━━━━━━━━━━━━━━━━━━━━\u001b[0m\u001b[37m\u001b[0m \u001b[1m0s\u001b[0m 3ms/step - loss: 7.6248e-07\n",
            "Epoch 9/30\n",
            "\u001b[1m112/112\u001b[0m \u001b[32m━━━━━━━━━━━━━━━━━━━━\u001b[0m\u001b[37m\u001b[0m \u001b[1m0s\u001b[0m 3ms/step - loss: 6.6887e-07\n",
            "Epoch 10/30\n",
            "\u001b[1m112/112\u001b[0m \u001b[32m━━━━━━━━━━━━━━━━━━━━\u001b[0m\u001b[37m\u001b[0m \u001b[1m0s\u001b[0m 3ms/step - loss: 5.5766e-07\n",
            "Epoch 11/30\n",
            "\u001b[1m112/112\u001b[0m \u001b[32m━━━━━━━━━━━━━━━━━━━━\u001b[0m\u001b[37m\u001b[0m \u001b[1m0s\u001b[0m 3ms/step - loss: 4.9431e-07\n",
            "Epoch 12/30\n",
            "\u001b[1m112/112\u001b[0m \u001b[32m━━━━━━━━━━━━━━━━━━━━\u001b[0m\u001b[37m\u001b[0m \u001b[1m0s\u001b[0m 3ms/step - loss: 1.3868e-06\n",
            "Epoch 13/30\n",
            "\u001b[1m112/112\u001b[0m \u001b[32m━━━━━━━━━━━━━━━━━━━━\u001b[0m\u001b[37m\u001b[0m \u001b[1m0s\u001b[0m 4ms/step - loss: 8.0512e-06\n",
            "Epoch 14/30\n",
            "\u001b[1m112/112\u001b[0m \u001b[32m━━━━━━━━━━━━━━━━━━━━\u001b[0m\u001b[37m\u001b[0m \u001b[1m0s\u001b[0m 4ms/step - loss: 1.4691e-06\n",
            "Epoch 15/30\n",
            "\u001b[1m112/112\u001b[0m \u001b[32m━━━━━━━━━━━━━━━━━━━━\u001b[0m\u001b[37m\u001b[0m \u001b[1m1s\u001b[0m 4ms/step - loss: 1.3416e-05\n",
            "Epoch 16/30\n",
            "\u001b[1m112/112\u001b[0m \u001b[32m━━━━━━━━━━━━━━━━━━━━\u001b[0m\u001b[37m\u001b[0m \u001b[1m1s\u001b[0m 5ms/step - loss: 5.5049e-07\n",
            "Epoch 17/30\n",
            "\u001b[1m112/112\u001b[0m \u001b[32m━━━━━━━━━━━━━━━━━━━━\u001b[0m\u001b[37m\u001b[0m \u001b[1m0s\u001b[0m 4ms/step - loss: 7.1338e-07\n",
            "Epoch 18/30\n",
            "\u001b[1m112/112\u001b[0m \u001b[32m━━━━━━━━━━━━━━━━━━━━\u001b[0m\u001b[37m\u001b[0m \u001b[1m0s\u001b[0m 3ms/step - loss: 2.3187e-06\n",
            "Epoch 19/30\n",
            "\u001b[1m112/112\u001b[0m \u001b[32m━━━━━━━━━━━━━━━━━━━━\u001b[0m\u001b[37m\u001b[0m \u001b[1m1s\u001b[0m 3ms/step - loss: 3.6997e-06\n",
            "Epoch 20/30\n",
            "\u001b[1m112/112\u001b[0m \u001b[32m━━━━━━━━━━━━━━━━━━━━\u001b[0m\u001b[37m\u001b[0m \u001b[1m0s\u001b[0m 3ms/step - loss: 4.1396e-06\n",
            "Epoch 21/30\n",
            "\u001b[1m112/112\u001b[0m \u001b[32m━━━━━━━━━━━━━━━━━━━━\u001b[0m\u001b[37m\u001b[0m \u001b[1m0s\u001b[0m 3ms/step - loss: 8.1714e-07\n",
            "Epoch 22/30\n",
            "\u001b[1m112/112\u001b[0m \u001b[32m━━━━━━━━━━━━━━━━━━━━\u001b[0m\u001b[37m\u001b[0m \u001b[1m0s\u001b[0m 3ms/step - loss: 2.0058e-06\n",
            "Epoch 23/30\n",
            "\u001b[1m112/112\u001b[0m \u001b[32m━━━━━━━━━━━━━━━━━━━━\u001b[0m\u001b[37m\u001b[0m \u001b[1m0s\u001b[0m 3ms/step - loss: 9.3458e-07\n",
            "Epoch 24/30\n",
            "\u001b[1m112/112\u001b[0m \u001b[32m━━━━━━━━━━━━━━━━━━━━\u001b[0m\u001b[37m\u001b[0m \u001b[1m0s\u001b[0m 3ms/step - loss: 1.2935e-06\n",
            "Epoch 25/30\n",
            "\u001b[1m112/112\u001b[0m \u001b[32m━━━━━━━━━━━━━━━━━━━━\u001b[0m\u001b[37m\u001b[0m \u001b[1m0s\u001b[0m 3ms/step - loss: 2.3254e-06\n",
            "Epoch 26/30\n",
            "\u001b[1m112/112\u001b[0m \u001b[32m━━━━━━━━━━━━━━━━━━━━\u001b[0m\u001b[37m\u001b[0m \u001b[1m0s\u001b[0m 3ms/step - loss: 2.6820e-06\n",
            "Epoch 27/30\n",
            "\u001b[1m112/112\u001b[0m \u001b[32m━━━━━━━━━━━━━━━━━━━━\u001b[0m\u001b[37m\u001b[0m \u001b[1m0s\u001b[0m 3ms/step - loss: 4.8033e-06\n",
            "Epoch 28/30\n",
            "\u001b[1m112/112\u001b[0m \u001b[32m━━━━━━━━━━━━━━━━━━━━\u001b[0m\u001b[37m\u001b[0m \u001b[1m0s\u001b[0m 3ms/step - loss: 1.1812e-06\n",
            "Epoch 29/30\n",
            "\u001b[1m112/112\u001b[0m \u001b[32m━━━━━━━━━━━━━━━━━━━━\u001b[0m\u001b[37m\u001b[0m \u001b[1m0s\u001b[0m 3ms/step - loss: 2.6796e-06\n",
            "Epoch 30/30\n",
            "\u001b[1m112/112\u001b[0m \u001b[32m━━━━━━━━━━━━━━━━━━━━\u001b[0m\u001b[37m\u001b[0m \u001b[1m0s\u001b[0m 3ms/step - loss: 3.7941e-06\n"
          ]
        },
        {
          "output_type": "execute_result",
          "data": {
            "text/plain": [
              "<keras.src.callbacks.history.History at 0x79f45f566e40>"
            ]
          },
          "metadata": {},
          "execution_count": 11
        }
      ]
    },
    {
      "cell_type": "code",
      "source": [
        "probabilidades = modelo.predict(X_val) # cálculo da saída da rede neural para as transações de validação\n",
        "\n",
        "print(probabilidades.shape) # verificando o shape das probabilidades\n",
        "\n",
        "print(probabilidades[:10])"
      ],
      "metadata": {
        "colab": {
          "base_uri": "https://localhost:8080/"
        },
        "id": "roLEfruXwSv0",
        "outputId": "acd9a14e-bc25-4ef4-df53-4e2569ce4b42"
      },
      "execution_count": 12,
      "outputs": [
        {
          "output_type": "stream",
          "name": "stdout",
          "text": [
            "\u001b[1m1781/1781\u001b[0m \u001b[32m━━━━━━━━━━━━━━━━━━━━\u001b[0m\u001b[37m\u001b[0m \u001b[1m3s\u001b[0m 1ms/step\n",
            "(56961, 1)\n",
            "[[2.2155913e-18]\n",
            " [3.5803127e-18]\n",
            " [4.5441220e-14]\n",
            " [2.8025880e-04]\n",
            " [2.2030180e-02]\n",
            " [1.8532930e-06]\n",
            " [3.6489571e-04]\n",
            " [2.4393084e-14]\n",
            " [3.8418531e-02]\n",
            " [2.6574981e-14]]\n"
          ]
        }
      ]
    },
    {
      "cell_type": "code",
      "source": [
        "valor_limiar = 0.64\n",
        "\n",
        "y_val_est = (probabilidades >= valor_limiar).astype(int)\n",
        "\n",
        "print(y_val_est.shape)\n",
        "print(y_val_est[:10])"
      ],
      "metadata": {
        "colab": {
          "base_uri": "https://localhost:8080/"
        },
        "id": "uMThrh-3ws1z",
        "outputId": "b5398bb8-026c-472c-a2b3-273b4f67a8fb"
      },
      "execution_count": 19,
      "outputs": [
        {
          "output_type": "stream",
          "name": "stdout",
          "text": [
            "(56961, 1)\n",
            "[[0]\n",
            " [0]\n",
            " [0]\n",
            " [0]\n",
            " [0]\n",
            " [0]\n",
            " [0]\n",
            " [0]\n",
            " [0]\n",
            " [0]]\n"
          ]
        }
      ]
    },
    {
      "cell_type": "code",
      "source": [
        "import matplotlib.pyplot as plt\n",
        "from sklearn.metrics import confusion_matrix, ConfusionMatrixDisplay\n",
        "\n",
        "cm = confusion_matrix(y_val, y_val_est) # cm = confusion matrix = matriz de confusão\n",
        "disp = ConfusionMatrixDisplay(confusion_matrix=cm)\n",
        "disp.plot()\n",
        "\n",
        "plt.show()\n"
      ],
      "metadata": {
        "colab": {
          "base_uri": "https://localhost:8080/",
          "height": 449
        },
        "id": "RQOnlKEU6ofH",
        "outputId": "b707f4f1-13a3-4215-bf78-0e5d1a5dfba6"
      },
      "execution_count": 20,
      "outputs": [
        {
          "output_type": "display_data",
          "data": {
            "text/plain": [
              "<Figure size 640x480 with 2 Axes>"
            ],
            "image/png": "[encoded data removed]"
          },
          "metadata": {}
        }
      ]
    },
    {
      "cell_type": "markdown",
      "metadata": {
        "id": "oGeOqgM_drWl"
      },
      "source": [
        "A partir da matriz de confusão, gerada para as transações de validação, podemos perceber que (os valores abaixo podem variar ligeiramente devido à inicialização aleatória dos pesos da rede neural):\n",
        "\n",
        "- 56961 transações de validação foram avalidadas pela rede neural\n",
        "- 66 transações foram corretamente identificadas como fraudulentas\n",
        "- 8 transações fraudulentas não foram detectadas\n",
        "- Infelizmente, 441 transações não fraudulentas foram incorretamente classificadas como fraudulentas.\n"
      ]
    },
    {
      "cell_type": "markdown",
      "source": [
        "Abaixo iremos construir uma função que permite calcular a matriz de confusão e suas métricas para diferentes valores de limiar"
      ],
      "metadata": {
        "id": "hPxIQh3JiHOi"
      }
    },
    {
      "cell_type": "code",
      "source": [
        "def calcula_metricas(probabilidades, valor_limiar=0.5):\n",
        "\n",
        "  y_val_est = (probabilidades >= valor_limiar).astype(int)\n",
        "\n",
        "  cm = confusion_matrix(y_val, y_val_est) # cm = confusion matrix = matriz de confusão\n",
        "\n",
        "  # calculando métricas relativas à matriz de confusão\n",
        "\n",
        "  # faremos os cálculos abaixo levando em conta apenas a classe y=1 como sendo a classe \"positiva\" (classe de referência)\n",
        "  # Note que a posição dos elementos na matriz de confusão obtida pela função \"confusion_matrix\" do sk learn é diferente daquela apresentada nos slides da aula.\n",
        "  vp = cm[1,1] # verdadeiros positivos\n",
        "  vn = cm[0,0] # verdadeiros negativos\n",
        "  fp = cm[0,1] # falsos positivos\n",
        "  fn = cm[1,0] # falsos negativos\n",
        "\n",
        "  precisao  = vp / (vp + fp)\n",
        "  revocacao = vp / (vp + fn)\n",
        "  f1_score  = 2*precisao*revocacao / (precisao + revocacao)\n",
        "  taxa_VP   = revocacao\n",
        "  taxa_FP   = fp / (fp + vn)\n",
        "\n",
        "  return precisao, revocacao, f1_score, taxa_VP, taxa_FP"
      ],
      "metadata": {
        "id": "bnbDHPc9y9II"
      },
      "execution_count": 22,
      "outputs": []
    },
    {
      "cell_type": "code",
      "source": [
        "valor_limiar = 0.5\n",
        "\n",
        "precisao, revocacao, f1_score, taxa_VP, taxa_FP = calcula_metricas(probabilidades, valor_limiar)\n",
        "\n",
        "print(\"precisão: \", precisao)\n",
        "\n",
        "print(\"recall: \", revocacao)\n",
        "\n",
        "print(\"F1 score: \", f1_score)\n",
        "\n",
        "print(\"taxa de VP: \", taxa_VP)\n",
        "\n",
        "print(\"taxa de FP: \", taxa_FP)"
      ],
      "metadata": {
        "colab": {
          "base_uri": "https://localhost:8080/"
        },
        "id": "TxzpQGvYieGS",
        "outputId": "8c53daca-0a11-4d49-d8f2-cfb3711d89b8"
      },
      "execution_count": 23,
      "outputs": [
        {
          "output_type": "stream",
          "name": "stdout",
          "text": [
            "precisão:  0.1891891891891892\n",
            "recall:  0.84\n",
            "F1 score:  0.3088235294117648\n",
            "taxa de VP:  0.84\n",
            "taxa de FP:  0.004746334774812784\n"
          ]
        }
      ]
    },
    {
      "cell_type": "markdown",
      "source": [
        "Note que é possível rodar a célula acima para diversos valores de limiar.\n",
        "\n",
        "A célula abaixo faz isso sistematicamente."
      ],
      "metadata": {
        "id": "D9FaKGyyhpJq"
      }
    },
    {
      "cell_type": "code",
      "source": [
        "passo = 0.02 # define o passo de incremento do valor de limiar\n",
        "valores_limiar = np.arange(0, 1+passo, passo) # define valores de limiar de 0 a 1 crescendo no passo pré-estabelecido\n",
        "taxas_VP = []\n",
        "taxas_FP = []\n",
        "\n",
        "linhas = []\n",
        "\n",
        "for valor_limiar in valores_limiar:\n",
        "  precisao, revocacao, f1_score, taxa_VP, taxa_FP = calcula_metricas(probabilidades, valor_limiar)\n",
        "  linha = {'Valor limiar': valor_limiar, 'Taxa de VP': taxa_VP, 'taxa de FP': taxa_FP}\n",
        "  linhas.append(linha)\n",
        "\n",
        "\n",
        "# Abaixo nós transformamos a lista acima num pandas dataframe\n",
        "\n",
        "import pandas as pd\n",
        "\n",
        "# Cria um DataFrame a partir da lista que contém as linhas da tabela\n",
        "df = pd.DataFrame(linhas)\n",
        "\n",
        "# Mostra o DataFrame resultante\n",
        "# print(df)\n",
        "\n",
        "# Mostra o DataFrame resultante sem omitir linhas\n",
        "pd.set_option('display.max_rows', None)\n",
        "print(df)"
      ],
      "metadata": {
        "colab": {
          "base_uri": "https://localhost:8080/"
        },
        "id": "1dgcgx8YluiJ",
        "outputId": "0997701e-cc46-4fff-cf1d-f107fc7dafda"
      },
      "execution_count": 24,
      "outputs": [
        {
          "output_type": "stream",
          "name": "stdout",
          "text": [
            "    Valor limiar  Taxa de VP  taxa de FP\n",
            "0           0.00    1.000000    1.000000\n",
            "1           0.02    0.906667    0.028197\n",
            "2           0.04    0.893333    0.020286\n",
            "3           0.06    0.893333    0.016384\n",
            "4           0.08    0.866667    0.013800\n",
            "5           0.10    0.853333    0.012288\n",
            "6           0.12    0.853333    0.010934\n",
            "7           0.14    0.840000    0.010249\n",
            "8           0.16    0.840000    0.009598\n",
            "9           0.18    0.840000    0.009000\n",
            "10          0.20    0.840000    0.008368\n",
            "11          0.22    0.840000    0.007998\n",
            "12          0.24    0.840000    0.007700\n",
            "13          0.26    0.840000    0.007278\n",
            "14          0.28    0.840000    0.007120\n",
            "15          0.30    0.840000    0.006856\n",
            "16          0.32    0.840000    0.006715\n",
            "17          0.34    0.840000    0.006416\n",
            "18          0.36    0.840000    0.006082\n",
            "19          0.38    0.840000    0.005836\n",
            "20          0.40    0.840000    0.005608\n",
            "21          0.42    0.840000    0.005485\n",
            "22          0.44    0.840000    0.005133\n",
            "23          0.46    0.840000    0.005028\n",
            "24          0.48    0.840000    0.004834\n",
            "25          0.50    0.840000    0.004746\n",
            "26          0.52    0.840000    0.004518\n",
            "27          0.54    0.840000    0.004360\n",
            "28          0.56    0.840000    0.004272\n",
            "29          0.58    0.840000    0.004131\n",
            "30          0.60    0.840000    0.003885\n",
            "31          0.62    0.826667    0.003604\n",
            "32          0.64    0.800000    0.003375\n",
            "33          0.66    0.786667    0.003164\n",
            "34          0.68    0.786667    0.003024\n",
            "35          0.70    0.786667    0.002936\n",
            "36          0.72    0.786667    0.002742\n",
            "37          0.74    0.786667    0.002690\n",
            "38          0.76    0.786667    0.002567\n",
            "39          0.78    0.786667    0.002443\n",
            "40          0.80    0.786667    0.002391\n",
            "41          0.82    0.786667    0.002320\n",
            "42          0.84    0.786667    0.002268\n",
            "43          0.86    0.786667    0.002180\n",
            "44          0.88    0.786667    0.002109\n",
            "45          0.90    0.786667    0.002039\n",
            "46          0.92    0.773333    0.001916\n",
            "47          0.94    0.773333    0.001846\n",
            "48          0.96    0.773333    0.001723\n",
            "49          0.98    0.773333    0.001617\n",
            "50          1.00    0.760000    0.001125\n"
          ]
        }
      ]
    },
    {
      "cell_type": "code",
      "source": [
        "from sklearn.metrics import roc_curve, auc\n",
        "\n",
        "fpr, tpr, thresholds = roc_curve(y_val, probabilidades) # já temos esses valores, portanto não precisamos recalculamos usando o SK-learn\n",
        "\n",
        "roc_auc = auc(fpr, tpr)\n",
        "# roc_auc = auc(taxa_FP, taxa_VP)\n",
        "\n",
        "plt.figure()\n",
        "plt.plot(fpr, tpr, color='darkorange', lw=2, label=f'ROC curve (AUC = {roc_auc:.2f})')\n",
        "plt.plot([0, 1], [0, 1], color='navy', lw=2, linestyle='--')\n",
        "plt.xlim([0.0, 1.0])\n",
        "plt.ylim([0.0, 1.05])\n",
        "plt.xlabel('Taxa FP')\n",
        "plt.ylabel('Taxa VP')\n",
        "plt.title('Curva ROC (Receiver Operating Characteristic)')\n",
        "plt.legend(loc='lower right')\n",
        "plt.show()"
      ],
      "metadata": {
        "id": "_lfYPRQsqQ5m",
        "colab": {
          "base_uri": "https://localhost:8080/",
          "height": 472
        },
        "outputId": "41123816-dd57-4321-f497-bd775d353dfc"
      },
      "execution_count": 25,
      "outputs": [
        {
          "output_type": "display_data",
          "data": {
            "text/plain": [
              "<Figure size 640x480 with 1 Axes>"
            ],
            "image/png": "[encoded data removed]"
          },
          "metadata": {}
        }
      ]
    },
    {
      "cell_type": "markdown",
      "source": [
        "--/-- Exercício\n",
        "\n",
        "1)Escolha do limiar adequado\n",
        "\n",
        "Para selecionar um valor de limiar adequado, foi feita uma análise sistemática das taxas de verdadeiros positivos (TPR) e falsos positivos (FPR) para diferentes valores de limiar. Observou-se que, conforme o limiar aumenta, a taxa de falsos positivos diminui, enquanto a taxa de verdadeiros positivos se mantém constante até aproximadamente 0,60, começando a cair de forma gradual a partir desse ponto.\n",
        "\n",
        "Ao comparar os valores, o limiar 0,64 apresentou um bom equilíbrio entre detecção de fraudes e controle de falsos alarmes. Nesse ponto, a taxa de verdadeiros positivos foi de 0,80, enquanto a taxa de falsos positivos caiu para 0,003375, representando uma redução significativa em relação ao valor padrão de 0,50 (FPR = 0,004746), com uma perda modesta de recall (de 0,84 para 0,80).\n",
        "\n",
        "A escolha do limiar 0,64 é justificada porque:\n",
        "\n",
        "Reduz consideravelmente a quantidade de falsos positivos, o que é importante para diminuir o número de alertas incorretos e a sobrecarga de revisões manuais;\n",
        "\n",
        "Mantém uma taxa de detecção de fraudes ainda alta, evitando perdas significativas na identificação de transações fraudulentas;\n",
        "\n",
        "Está em uma região da curva ROC que apresenta boa relação entre sensibilidade (TPR) e especificidade (1−FPR).\n",
        "\n",
        "Portanto, o limiar de 0,64 foi adotado como valor final, por oferecer um equilíbrio adequado entre a detecção eficiente de fraudes e a minimização de alarmes falsos, considerando as características desbalanceadas do conjunto de dados."
      ],
      "metadata": {
        "id": "Q76dImoRWzZI"
      }
    },
    {
      "cell_type": "code",
      "source": [],
      "metadata": {
        "id": "cg6rS0VUZWnE"
      },
      "execution_count": null,
      "outputs": []
    }
  ],
  "metadata": {
    "accelerator": "GPU",
    "colab": {
      "provenance": [],
      "include_colab_link": true
    },
    "kernelspec": {
      "display_name": "Python 3",
      "language": "python",
      "name": "python3"
    },
    "language_info": {
      "codemirror_mode": {
        "name": "ipython",
        "version": 3
      },
      "file_extension": ".py",
      "mimetype": "text/x-python",
      "name": "python",
      "nbconvert_exporter": "python",
      "pygments_lexer": "ipython3",
      "version": "3.7.0"
    }
  },
  "nbformat": 4,
  "nbformat_minor": 0
}