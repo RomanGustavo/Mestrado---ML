{
  "cells": [
    {
      "cell_type": "markdown",
      "metadata": {
        "id": "view-in-github",
        "colab_type": "text"
      },
      "source": [
        "<a href=\"https://colab.research.google.com/github/RomanGustavo/Mestrado---ML/blob/main/codigo_aula22_classificacao_desbalanceada.ipynb\" target=\"_parent\"><img src=\"https://colab.research.google.com/assets/colab-badge.svg\" alt=\"Open In Colab\"/></a>"
      ]
    },
    {
      "cell_type": "markdown",
      "metadata": {
        "id": "cnRpPyBvdrWW"
      },
      "source": [
        "# Classificação desbalanceada\n",
        "\n",
        "Esse notebook é uma tradução e adaptação do exemplo apresentado [no site do Keras](https://keras.io/examples/structured_data/imbalanced_classification/), criado por [fchollet](https://twitter.com/fchollet), e que utiliza essa base de dados do Kaggle [aqui](https://www.kaggle.com/datasets/mlg-ulb/creditcardfraud).\n"
      ]
    },
    {
      "cell_type": "markdown",
      "metadata": {
        "id": "tjLuu-SCdrWc"
      },
      "source": [
        "## Introdução\n",
        "\n",
        "Este exemplo mostra como treinar um modelo classificador quando os dados são altamente desbalanceados. O objetivo é treinar uma rede neural capaz de identificar operações financeiras fraudulentas."
      ]
    },
    {
      "cell_type": "markdown",
      "metadata": {
        "id": "GuR9jf80drWd"
      },
      "source": [
        "## Vetorizando os dados CSV"
      ]
    },
    {
      "cell_type": "code",
      "execution_count": 6,
      "metadata": {
        "colab": {
          "base_uri": "https://localhost:8080/"
        },
        "id": "C2Anb2pbdrWe",
        "outputId": "f158e108-06fa-4120-a48f-ea1c0564bc22"
      },
      "outputs": [
        {
          "output_type": "stream",
          "name": "stdout",
          "text": [
            "CABECALHO: Time,V1,V2,V3,V4,V5,V6,V7,V8,V9,V10,V11,V12,V13,V14,V15,V16,V17,V18,V19,V20,V21,V22,V23,V24,V25,V26,V27,V28,Amount,Class\n",
            "CARACTERISTICAS: [0.0, -1.3598071336738, -0.0727811733098497, 2.53634673796914, 1.37815522427443, -0.338320769942518, 0.462387777762292, 0.239598554061257, 0.0986979012610507, 0.363786969611213, 0.0907941719789316, -0.551599533260813, -0.617800855762348, -0.991389847235408, -0.311169353699879, 1.46817697209427, -0.470400525259478, 0.207971241929242, 0.0257905801985591, 0.403992960255733, 0.251412098239705, -0.018306777944153, 0.277837575558899, -0.110473910188767, 0.0669280749146731, 0.128539358273528, -0.189114843888824, 0.133558376740387, -0.0210530534538215, 149.62]\n",
            "caracteristicas.shape: (284807, 30)\n",
            "valores_alvo.shape: (284807, 1)\n"
          ]
        }
      ],
      "source": [
        "import csv\n",
        "import numpy as np\n",
        "\n",
        "fname = \"creditcard.csv\"\n",
        "\n",
        "todas_caracteristicas = []\n",
        "todos_rotulos         = []\n",
        "\n",
        "with open(fname, newline='') as f:\n",
        "    reader = csv.reader(f)\n",
        "    header = next(reader)  # pula o cabeçalho\n",
        "    print(\"CABECALHO:\", \",\".join(header))\n",
        "\n",
        "    for i, fields in enumerate(reader):\n",
        "        # converte todas as colunas, exceto a última, para float\n",
        "        todas_caracteristicas.append([float(v) for v in fields[:-1]])\n",
        "        # última coluna (Class) -> int\n",
        "        todos_rotulos.append([int(fields[-1])])\n",
        "\n",
        "        if i == 0:\n",
        "            print(\"CARACTERISTICAS:\", todas_caracteristicas[-1])\n",
        "\n",
        "caracteristicas = np.array(todas_caracteristicas, dtype=\"float32\")\n",
        "valores_alvo    = np.array(todos_rotulos, dtype=\"uint8\")\n",
        "print(\"caracteristicas.shape:\", caracteristicas.shape)\n",
        "print(\"valores_alvo.shape:\", valores_alvo.shape)\n"
      ]
    },
    {
      "cell_type": "markdown",
      "metadata": {
        "id": "0rNISdjydrWg"
      },
      "source": [
        "## Preparando os dados"
      ]
    },
    {
      "cell_type": "code",
      "execution_count": 7,
      "metadata": {
        "colab": {
          "base_uri": "https://localhost:8080/"
        },
        "id": "E1DVxQk1drWh",
        "outputId": "4fc62072-515b-4a3e-bfeb-3f140244423d"
      },
      "outputs": [
        {
          "output_type": "stream",
          "name": "stdout",
          "text": [
            "Número de amostras de treinamento: 227846\n",
            "Número de amostras de validação: 56961\n"
          ]
        }
      ],
      "source": [
        "num_amostras_validacao = int(len(caracteristicas) * 0.2) # deixaremos 20% dos dados para validação\n",
        "X_trein = caracteristicas[:-num_amostras_validacao]\n",
        "y_trein = valores_alvo[:-num_amostras_validacao]\n",
        "X_val   = caracteristicas[-num_amostras_validacao:]\n",
        "y_val   = valores_alvo[-num_amostras_validacao:]\n",
        "\n",
        "print(\"Número de amostras de treinamento:\", len(X_trein))\n",
        "print(\"Número de amostras de validação:\", len(X_val))"
      ]
    },
    {
      "cell_type": "markdown",
      "metadata": {
        "id": "CnDCSu7zdrWh"
      },
      "source": [
        "## Análise do desbalanceamento nos rótulos e atribuição de pesos diferentes"
      ]
    },
    {
      "cell_type": "code",
      "execution_count": 8,
      "metadata": {
        "colab": {
          "base_uri": "https://localhost:8080/"
        },
        "id": "nMiBYrdGdrWi",
        "outputId": "61fb273f-a4d8-4ddc-dfc8-379604afeafb"
      },
      "outputs": [
        {
          "output_type": "stream",
          "name": "stdout",
          "text": [
            "[227429    417]\n",
            "Número de amostras positivas no conjunto de dados: 417 (0.18% do total)\n",
            "Peso para classe 0: 4.396976638863118e-06\n",
            "Peso para classe 1: 0.002398081534772182\n"
          ]
        }
      ],
      "source": [
        "qtdade_amostras_cada_classe = np.bincount(y_trein[:, 0]) # função do numpy que conta a quantidade de amostras para cada classe\n",
        "print(qtdade_amostras_cada_classe)\n",
        "print(\n",
        "    \"Número de amostras positivas no conjunto de dados: {} ({:.2f}% do total)\".format(\n",
        "        qtdade_amostras_cada_classe[1], 100 * float(qtdade_amostras_cada_classe[1]) / len(y_trein)\n",
        "    )\n",
        ")\n",
        "\n",
        "peso_classe_0 = 1.0 / qtdade_amostras_cada_classe[0]\n",
        "peso_classe_1 = 1.0 / qtdade_amostras_cada_classe[1]\n",
        "\n",
        "print(\"Peso para classe 0:\", peso_classe_0 )\n",
        "print(\"Peso para classe 1:\", peso_classe_1 )\n",
        "\n",
        "pesos_classes = {0: peso_classe_0, 1: peso_classe_1} # cria um dicionário com o peso de cada classe"
      ]
    },
    {
      "cell_type": "markdown",
      "metadata": {
        "id": "e-E-Ra1wdrWj"
      },
      "source": [
        "## Normalizando os dados usando média e desvio padrão"
      ]
    },
    {
      "cell_type": "code",
      "execution_count": 9,
      "metadata": {
        "id": "sdg1DpuhdrWj"
      },
      "outputs": [],
      "source": [
        "media    = np.mean(X_trein, axis=0)\n",
        "X_trein -= media\n",
        "X_val   -= media\n",
        "desvio   = np.std(X_trein, axis=0)\n",
        "X_trein /= desvio\n",
        "X_val   /= desvio"
      ]
    },
    {
      "cell_type": "markdown",
      "metadata": {
        "id": "C8BviQ2GdrWj"
      },
      "source": [
        "## Criando uma rede neural para classificação binária"
      ]
    },
    {
      "cell_type": "code",
      "execution_count": 10,
      "metadata": {
        "colab": {
          "base_uri": "https://localhost:8080/",
          "height": 272
        },
        "id": "l6E71AoqdrWk",
        "outputId": "c2d7a26e-5862-4369-d17d-062d5f248a67"
      },
      "outputs": [
        {
          "output_type": "display_data",
          "data": {
            "text/plain": [
              "\u001b[1mModel: \"sequential\"\u001b[0m\n"
            ],
            "text/html": [
              "<pre style=\"white-space:pre;overflow-x:auto;line-height:normal;font-family:Menlo,'DejaVu Sans Mono',consolas,'Courier New',monospace\"><span style=\"font-weight: bold\">Model: \"sequential\"</span>\n",
              "</pre>\n"
            ]
          },
          "metadata": {}
        },
        {
          "output_type": "display_data",
          "data": {
            "text/plain": [
              "┏━━━━━━━━━━━━━━━━━━━━━━━━━━━━━━━━━┳━━━━━━━━━━━━━━━━━━━━━━━━┳━━━━━━━━━━━━━━━┓\n",
              "┃\u001b[1m \u001b[0m\u001b[1mLayer (type)                   \u001b[0m\u001b[1m \u001b[0m┃\u001b[1m \u001b[0m\u001b[1mOutput Shape          \u001b[0m\u001b[1m \u001b[0m┃\u001b[1m \u001b[0m\u001b[1m      Param #\u001b[0m\u001b[1m \u001b[0m┃\n",
              "┡━━━━━━━━━━━━━━━━━━━━━━━━━━━━━━━━━╇━━━━━━━━━━━━━━━━━━━━━━━━╇━━━━━━━━━━━━━━━┩\n",
              "│ dense (\u001b[38;5;33mDense\u001b[0m)                   │ (\u001b[38;5;45mNone\u001b[0m, \u001b[38;5;34m256\u001b[0m)            │         \u001b[38;5;34m7,936\u001b[0m │\n",
              "├─────────────────────────────────┼────────────────────────┼───────────────┤\n",
              "│ dense_1 (\u001b[38;5;33mDense\u001b[0m)                 │ (\u001b[38;5;45mNone\u001b[0m, \u001b[38;5;34m256\u001b[0m)            │        \u001b[38;5;34m65,792\u001b[0m │\n",
              "├─────────────────────────────────┼────────────────────────┼───────────────┤\n",
              "│ dense_2 (\u001b[38;5;33mDense\u001b[0m)                 │ (\u001b[38;5;45mNone\u001b[0m, \u001b[38;5;34m256\u001b[0m)            │        \u001b[38;5;34m65,792\u001b[0m │\n",
              "├─────────────────────────────────┼────────────────────────┼───────────────┤\n",
              "│ dense_3 (\u001b[38;5;33mDense\u001b[0m)                 │ (\u001b[38;5;45mNone\u001b[0m, \u001b[38;5;34m1\u001b[0m)              │           \u001b[38;5;34m257\u001b[0m │\n",
              "└─────────────────────────────────┴────────────────────────┴───────────────┘\n"
            ],
            "text/html": [
              "<pre style=\"white-space:pre;overflow-x:auto;line-height:normal;font-family:Menlo,'DejaVu Sans Mono',consolas,'Courier New',monospace\">┏━━━━━━━━━━━━━━━━━━━━━━━━━━━━━━━━━┳━━━━━━━━━━━━━━━━━━━━━━━━┳━━━━━━━━━━━━━━━┓\n",
              "┃<span style=\"font-weight: bold\"> Layer (type)                    </span>┃<span style=\"font-weight: bold\"> Output Shape           </span>┃<span style=\"font-weight: bold\">       Param # </span>┃\n",
              "┡━━━━━━━━━━━━━━━━━━━━━━━━━━━━━━━━━╇━━━━━━━━━━━━━━━━━━━━━━━━╇━━━━━━━━━━━━━━━┩\n",
              "│ dense (<span style=\"color: #0087ff; text-decoration-color: #0087ff\">Dense</span>)                   │ (<span style=\"color: #00d7ff; text-decoration-color: #00d7ff\">None</span>, <span style=\"color: #00af00; text-decoration-color: #00af00\">256</span>)            │         <span style=\"color: #00af00; text-decoration-color: #00af00\">7,936</span> │\n",
              "├─────────────────────────────────┼────────────────────────┼───────────────┤\n",
              "│ dense_1 (<span style=\"color: #0087ff; text-decoration-color: #0087ff\">Dense</span>)                 │ (<span style=\"color: #00d7ff; text-decoration-color: #00d7ff\">None</span>, <span style=\"color: #00af00; text-decoration-color: #00af00\">256</span>)            │        <span style=\"color: #00af00; text-decoration-color: #00af00\">65,792</span> │\n",
              "├─────────────────────────────────┼────────────────────────┼───────────────┤\n",
              "│ dense_2 (<span style=\"color: #0087ff; text-decoration-color: #0087ff\">Dense</span>)                 │ (<span style=\"color: #00d7ff; text-decoration-color: #00d7ff\">None</span>, <span style=\"color: #00af00; text-decoration-color: #00af00\">256</span>)            │        <span style=\"color: #00af00; text-decoration-color: #00af00\">65,792</span> │\n",
              "├─────────────────────────────────┼────────────────────────┼───────────────┤\n",
              "│ dense_3 (<span style=\"color: #0087ff; text-decoration-color: #0087ff\">Dense</span>)                 │ (<span style=\"color: #00d7ff; text-decoration-color: #00d7ff\">None</span>, <span style=\"color: #00af00; text-decoration-color: #00af00\">1</span>)              │           <span style=\"color: #00af00; text-decoration-color: #00af00\">257</span> │\n",
              "└─────────────────────────────────┴────────────────────────┴───────────────┘\n",
              "</pre>\n"
            ]
          },
          "metadata": {}
        },
        {
          "output_type": "display_data",
          "data": {
            "text/plain": [
              "\u001b[1m Total params: \u001b[0m\u001b[38;5;34m139,777\u001b[0m (546.00 KB)\n"
            ],
            "text/html": [
              "<pre style=\"white-space:pre;overflow-x:auto;line-height:normal;font-family:Menlo,'DejaVu Sans Mono',consolas,'Courier New',monospace\"><span style=\"font-weight: bold\"> Total params: </span><span style=\"color: #00af00; text-decoration-color: #00af00\">139,777</span> (546.00 KB)\n",
              "</pre>\n"
            ]
          },
          "metadata": {}
        },
        {
          "output_type": "display_data",
          "data": {
            "text/plain": [
              "\u001b[1m Trainable params: \u001b[0m\u001b[38;5;34m139,777\u001b[0m (546.00 KB)\n"
            ],
            "text/html": [
              "<pre style=\"white-space:pre;overflow-x:auto;line-height:normal;font-family:Menlo,'DejaVu Sans Mono',consolas,'Courier New',monospace\"><span style=\"font-weight: bold\"> Trainable params: </span><span style=\"color: #00af00; text-decoration-color: #00af00\">139,777</span> (546.00 KB)\n",
              "</pre>\n"
            ]
          },
          "metadata": {}
        },
        {
          "output_type": "display_data",
          "data": {
            "text/plain": [
              "\u001b[1m Non-trainable params: \u001b[0m\u001b[38;5;34m0\u001b[0m (0.00 B)\n"
            ],
            "text/html": [
              "<pre style=\"white-space:pre;overflow-x:auto;line-height:normal;font-family:Menlo,'DejaVu Sans Mono',consolas,'Courier New',monospace\"><span style=\"font-weight: bold\"> Non-trainable params: </span><span style=\"color: #00af00; text-decoration-color: #00af00\">0</span> (0.00 B)\n",
              "</pre>\n"
            ]
          },
          "metadata": {}
        }
      ],
      "source": [
        "import keras\n",
        "\n",
        "modelo = keras.Sequential(\n",
        "    [\n",
        "        keras.Input(shape=X_trein.shape[1:]),\n",
        "        keras.layers.Dense(256, activation=\"relu\"),\n",
        "        keras.layers.Dense(256, activation=\"relu\"),\n",
        "        keras.layers.Dense(256, activation=\"relu\"),\n",
        "        keras.layers.Dense(1, activation=\"sigmoid\"),\n",
        "    ]\n",
        ")\n",
        "modelo.summary()"
      ]
    },
    {
      "cell_type": "markdown",
      "metadata": {
        "id": "_z_1oXeEdrWk"
      },
      "source": [
        "## Treinando o modelo levando em conta o desbalaceamento entre as classes"
      ]
    },
    {
      "cell_type": "code",
      "source": [
        "modelo.compile(optimizer=keras.optimizers.Adam(1e-2), loss=\"binary_crossentropy\")\n",
        "\n",
        "modelo.fit(\n",
        "    X_trein,\n",
        "    y_trein,\n",
        "    batch_size=2048, # define a quantidade de amostras de cada \"mini-lote\" (se comentarmos essa linha, será usado o padrão de 32 amostras por mini-lote)\n",
        "    epochs=30,\n",
        "    class_weight=pesos_classes,\n",
        ")"
      ],
      "metadata": {
        "colab": {
          "base_uri": "https://localhost:8080/"
        },
        "id": "f1c8WPjm4OAP",
        "outputId": "bcd5fcde-b54d-40db-9c97-709b7e4d2326"
      },
      "execution_count": 11,
      "outputs": [
        {
          "output_type": "stream",
          "name": "stdout",
          "text": [
            "Epoch 1/30\n",
            "\u001b[1m112/112\u001b[0m \u001b[32m━━━━━━━━━━━━━━━━━━━━\u001b[0m\u001b[37m\u001b[0m \u001b[1m4s\u001b[0m 11ms/step - loss: 3.6929e-06\n",
            "Epoch 2/30\n",
            "\u001b[1m112/112\u001b[0m \u001b[32m━━━━━━━━━━━━━━━━━━━━\u001b[0m\u001b[37m\u001b[0m \u001b[1m0s\u001b[0m 3ms/step - loss: 1.5038e-06\n",
            "Epoch 3/30\n",
            "\u001b[1m112/112\u001b[0m \u001b[32m━━━━━━━━━━━━━━━━━━━━\u001b[0m\u001b[37m\u001b[0m \u001b[1m0s\u001b[0m 3ms/step - loss: 1.1786e-06\n",
            "Epoch 4/30\n",
            "\u001b[1m112/112\u001b[0m \u001b[32m━━━━━━━━━━━━━━━━━━━━\u001b[0m\u001b[37m\u001b[0m \u001b[1m0s\u001b[0m 3ms/step - loss: 1.1769e-06\n",
            "Epoch 5/30\n",
            "\u001b[1m112/112\u001b[0m \u001b[32m━━━━━━━━━━━━━━━━━━━━\u001b[0m\u001b[37m\u001b[0m \u001b[1m0s\u001b[0m 3ms/step - loss: 7.3949e-07\n",
            "Epoch 6/30\n",
            "\u001b[1m112/112\u001b[0m \u001b[32m━━━━━━━━━━━━━━━━━━━━\u001b[0m\u001b[37m\u001b[0m \u001b[1m1s\u001b[0m 3ms/step - loss: 1.1322e-06\n",
            "Epoch 7/30\n",
            "\u001b[1m112/112\u001b[0m \u001b[32m━━━━━━━━━━━━━━━━━━━━\u001b[0m\u001b[37m\u001b[0m \u001b[1m0s\u001b[0m 3ms/step - loss: 5.6922e-07\n",
            "Epoch 8/30\n",
            "\u001b[1m112/112\u001b[0m \u001b[32m━━━━━━━━━━━━━━━━━━━━\u001b[0m\u001b[37m\u001b[0m \u001b[1m0s\u001b[0m 3ms/step - loss: 6.7042e-07\n",
            "Epoch 9/30\n",
            "\u001b[1m112/112\u001b[0m \u001b[32m━━━━━━━━━━━━━━━━━━━━\u001b[0m\u001b[37m\u001b[0m \u001b[1m0s\u001b[0m 3ms/step - loss: 5.2708e-07\n",
            "Epoch 10/30\n",
            "\u001b[1m112/112\u001b[0m \u001b[32m━━━━━━━━━━━━━━━━━━━━\u001b[0m\u001b[37m\u001b[0m \u001b[1m0s\u001b[0m 3ms/step - loss: 3.4659e-07\n",
            "Epoch 11/30\n",
            "\u001b[1m112/112\u001b[0m \u001b[32m━━━━━━━━━━━━━━━━━━━━\u001b[0m\u001b[37m\u001b[0m \u001b[1m0s\u001b[0m 4ms/step - loss: 3.8151e-07\n",
            "Epoch 12/30\n",
            "\u001b[1m112/112\u001b[0m \u001b[32m━━━━━━━━━━━━━━━━━━━━\u001b[0m\u001b[37m\u001b[0m \u001b[1m1s\u001b[0m 4ms/step - loss: 3.4722e-07\n",
            "Epoch 13/30\n",
            "\u001b[1m112/112\u001b[0m \u001b[32m━━━━━━━━━━━━━━━━━━━━\u001b[0m\u001b[37m\u001b[0m \u001b[1m1s\u001b[0m 4ms/step - loss: 3.0229e-07\n",
            "Epoch 14/30\n",
            "\u001b[1m112/112\u001b[0m \u001b[32m━━━━━━━━━━━━━━━━━━━━\u001b[0m\u001b[37m\u001b[0m \u001b[1m1s\u001b[0m 5ms/step - loss: 4.8840e-07\n",
            "Epoch 15/30\n",
            "\u001b[1m112/112\u001b[0m \u001b[32m━━━━━━━━━━━━━━━━━━━━\u001b[0m\u001b[37m\u001b[0m \u001b[1m1s\u001b[0m 4ms/step - loss: 4.7360e-07\n",
            "Epoch 16/30\n",
            "\u001b[1m112/112\u001b[0m \u001b[32m━━━━━━━━━━━━━━━━━━━━\u001b[0m\u001b[37m\u001b[0m \u001b[1m0s\u001b[0m 4ms/step - loss: 4.6226e-07\n",
            "Epoch 17/30\n",
            "\u001b[1m112/112\u001b[0m \u001b[32m━━━━━━━━━━━━━━━━━━━━\u001b[0m\u001b[37m\u001b[0m \u001b[1m0s\u001b[0m 3ms/step - loss: 3.7745e-07\n",
            "Epoch 18/30\n",
            "\u001b[1m112/112\u001b[0m \u001b[32m━━━━━━━━━━━━━━━━━━━━\u001b[0m\u001b[37m\u001b[0m \u001b[1m0s\u001b[0m 3ms/step - loss: 3.6207e-07\n",
            "Epoch 19/30\n",
            "\u001b[1m112/112\u001b[0m \u001b[32m━━━━━━━━━━━━━━━━━━━━\u001b[0m\u001b[37m\u001b[0m \u001b[1m0s\u001b[0m 3ms/step - loss: 3.7205e-07\n",
            "Epoch 20/30\n",
            "\u001b[1m112/112\u001b[0m \u001b[32m━━━━━━━━━━━━━━━━━━━━\u001b[0m\u001b[37m\u001b[0m \u001b[1m1s\u001b[0m 3ms/step - loss: 2.3924e-07\n",
            "Epoch 21/30\n",
            "\u001b[1m112/112\u001b[0m \u001b[32m━━━━━━━━━━━━━━━━━━━━\u001b[0m\u001b[37m\u001b[0m \u001b[1m0s\u001b[0m 3ms/step - loss: 1.7466e-07\n",
            "Epoch 22/30\n",
            "\u001b[1m112/112\u001b[0m \u001b[32m━━━━━━━━━━━━━━━━━━━━\u001b[0m\u001b[37m\u001b[0m \u001b[1m0s\u001b[0m 3ms/step - loss: 9.8482e-07\n",
            "Epoch 23/30\n",
            "\u001b[1m112/112\u001b[0m \u001b[32m━━━━━━━━━━━━━━━━━━━━\u001b[0m\u001b[37m\u001b[0m \u001b[1m0s\u001b[0m 3ms/step - loss: 6.8377e-06\n",
            "Epoch 24/30\n",
            "\u001b[1m112/112\u001b[0m \u001b[32m━━━━━━━━━━━━━━━━━━━━\u001b[0m\u001b[37m\u001b[0m \u001b[1m0s\u001b[0m 3ms/step - loss: 7.5929e-06\n",
            "Epoch 25/30\n",
            "\u001b[1m112/112\u001b[0m \u001b[32m━━━━━━━━━━━━━━━━━━━━\u001b[0m\u001b[37m\u001b[0m \u001b[1m0s\u001b[0m 3ms/step - loss: 6.4649e-06\n",
            "Epoch 26/30\n",
            "\u001b[1m112/112\u001b[0m \u001b[32m━━━━━━━━━━━━━━━━━━━━\u001b[0m\u001b[37m\u001b[0m \u001b[1m0s\u001b[0m 3ms/step - loss: 9.5849e-06\n",
            "Epoch 27/30\n",
            "\u001b[1m112/112\u001b[0m \u001b[32m━━━━━━━━━━━━━━━━━━━━\u001b[0m\u001b[37m\u001b[0m \u001b[1m0s\u001b[0m 3ms/step - loss: 1.3993e-05\n",
            "Epoch 28/30\n",
            "\u001b[1m112/112\u001b[0m \u001b[32m━━━━━━━━━━━━━━━━━━━━\u001b[0m\u001b[37m\u001b[0m \u001b[1m0s\u001b[0m 3ms/step - loss: 8.5391e-07\n",
            "Epoch 29/30\n",
            "\u001b[1m112/112\u001b[0m \u001b[32m━━━━━━━━━━━━━━━━━━━━\u001b[0m\u001b[37m\u001b[0m \u001b[1m0s\u001b[0m 3ms/step - loss: 1.3555e-06\n",
            "Epoch 30/30\n",
            "\u001b[1m112/112\u001b[0m \u001b[32m━━━━━━━━━━━━━━━━━━━━\u001b[0m\u001b[37m\u001b[0m \u001b[1m0s\u001b[0m 3ms/step - loss: 1.1179e-06\n"
          ]
        },
        {
          "output_type": "execute_result",
          "data": {
            "text/plain": [
              "<keras.src.callbacks.history.History at 0x7bb0c55565a0>"
            ]
          },
          "metadata": {},
          "execution_count": 11
        }
      ]
    },
    {
      "cell_type": "code",
      "source": [
        "probabilidades = modelo.predict(X_val) # cálculo da saída da rede neural para as transações de validação\n",
        "\n",
        "print(probabilidades.shape) # verificando o shape das probabilidades\n",
        "\n",
        "print(probabilidades[:10]) # verificando as probabilidades das primeiras 10 amostras de validação"
      ],
      "metadata": {
        "colab": {
          "base_uri": "https://localhost:8080/"
        },
        "id": "roLEfruXwSv0",
        "outputId": "d9c7192f-060d-4a31-806d-b40f5ae971e9"
      },
      "execution_count": 12,
      "outputs": [
        {
          "output_type": "stream",
          "name": "stdout",
          "text": [
            "\u001b[1m1781/1781\u001b[0m \u001b[32m━━━━━━━━━━━━━━━━━━━━\u001b[0m\u001b[37m\u001b[0m \u001b[1m3s\u001b[0m 2ms/step\n",
            "(56961, 1)\n",
            "[[7.4407006e-16]\n",
            " [2.3972250e-18]\n",
            " [4.0039189e-19]\n",
            " [3.0602817e-03]\n",
            " [3.4369487e-02]\n",
            " [3.2077162e-06]\n",
            " [1.9039788e-04]\n",
            " [2.6037591e-20]\n",
            " [5.2903482e-04]\n",
            " [2.8352093e-12]]\n"
          ]
        }
      ]
    },
    {
      "cell_type": "code",
      "source": [
        "y_val_est = (probabilidades >= 0.5).astype(int)\n",
        "\n",
        "print(y_val_est.shape)\n",
        "print(y_val_est[:10]) # mostrado a classe prevista para as primeiras 1 amostras de validação"
      ],
      "metadata": {
        "colab": {
          "base_uri": "https://localhost:8080/"
        },
        "id": "uMThrh-3ws1z",
        "outputId": "641c52c3-df55-468d-929a-4d98fbb19d9b"
      },
      "execution_count": 13,
      "outputs": [
        {
          "output_type": "stream",
          "name": "stdout",
          "text": [
            "(56961, 1)\n",
            "[[0]\n",
            " [0]\n",
            " [0]\n",
            " [0]\n",
            " [0]\n",
            " [0]\n",
            " [0]\n",
            " [0]\n",
            " [0]\n",
            " [0]]\n"
          ]
        }
      ]
    },
    {
      "cell_type": "markdown",
      "source": [
        "## Plotando matriz de confusão para os dados de validação"
      ],
      "metadata": {
        "id": "onyoWo6BpBOn"
      }
    },
    {
      "cell_type": "code",
      "source": [
        "import matplotlib.pyplot as plt\n",
        "from sklearn.metrics import confusion_matrix, ConfusionMatrixDisplay\n",
        "\n",
        "cm = confusion_matrix(y_val, y_val_est) # cm = confusion matrix = matriz de confusão\n",
        "disp = ConfusionMatrixDisplay(confusion_matrix=cm)\n",
        "disp.plot()\n",
        "\n",
        "plt.show()\n"
      ],
      "metadata": {
        "colab": {
          "base_uri": "https://localhost:8080/",
          "height": 449
        },
        "id": "RQOnlKEU6ofH",
        "outputId": "8e126df4-9dd1-4566-eecb-cbb23d58892c"
      },
      "execution_count": 14,
      "outputs": [
        {
          "output_type": "display_data",
          "data": {
            "text/plain": [
              "<Figure size 640x480 with 2 Axes>"
            ],
            "image/png": "[encoded data removed]"
          },
          "metadata": {}
        }
      ]
    },
    {
      "cell_type": "markdown",
      "metadata": {
        "id": "oGeOqgM_drWl"
      },
      "source": [
        "A partir da matriz de confusão, gerada para as transações de validação, podemos perceber que (os valores abaixo podem variar ligeiramente devido à inicialização aleatória dos pesos da rede neural):\n",
        "\n",
        "- 56961 transações de validação foram avalidadas pela rede neural\n",
        "- 66 transações foram corretamente identificadas como fraudulentas\n",
        "- 8 transações fraudulentas não foram detectadas\n",
        "- Infelizmente, 441 transações não fraudulentas foram incorretamente classificadas como fraudulentas.\n"
      ]
    },
    {
      "cell_type": "code",
      "source": [
        "# calculando precisão, recall e f1 score\n",
        "\n",
        "rotulos = [\"y=0\",\"y=1\"]\n",
        "\n",
        "tp        = np.diag(cm) # Diagonal represents true positives\n",
        "precisao  = dict()\n",
        "revocacao = dict()\n",
        "f1_score  = dict()\n",
        "for i in range(len(rotulos)):\n",
        "  col = cm[:, i]\n",
        "  fp = np.sum(col) - tp[i] # Sum of column minus true positive is false negative\n",
        "\n",
        "  row = cm[i, :]\n",
        "  fn = np.sum(row) - tp[i] # Sum of row minus true positive, is false negative\n",
        "\n",
        "  valor_precisao  = tp[i] / (tp[i] + fp)\n",
        "  valor_revocacao = tp[i] / (tp[i] + fn)\n",
        "  valor_f1_score  = 2*valor_precisao*valor_revocacao / (valor_precisao + valor_revocacao)\n",
        "\n",
        "  precisao[rotulos[i]] = valor_precisao\n",
        "  revocacao[rotulos[i]]    = valor_revocacao\n",
        "  f1_score[rotulos[i]]  = valor_f1_score\n",
        "\n",
        "print(\"precisao: \", precisao)\n",
        "\n",
        "print(\"recall: \", revocacao)\n",
        "\n",
        "print(\"F1 score: \", f1_score)"
      ],
      "metadata": {
        "colab": {
          "base_uri": "https://localhost:8080/"
        },
        "id": "bnbDHPc9y9II",
        "outputId": "3411389c-80f1-450a-c192-3f3057dca84b"
      },
      "execution_count": 15,
      "outputs": [
        {
          "output_type": "stream",
          "name": "stdout",
          "text": [
            "precisao:  {'y=0': np.float64(0.9997702246495926), 'y=1': np.float64(0.16145833333333334)}\n",
            "recall:  {'y=0': np.float64(0.9943395563055937), 'y=1': np.float64(0.8266666666666667)}\n",
            "F1 score:  {'y=0': np.float64(0.997047495659378), 'y=1': np.float64(0.2701525054466231)}\n"
          ]
        }
      ]
    },
    {
      "cell_type": "markdown",
      "source": [
        "Note que existe um valor de precisão, revocação e f1 score para cada classe. Nos nossos slides, tais valores foram calculados tomando-se a classe $y=1$ como referência. Emtretanto, nada impede que essas 3 métricas sejam calculadas tomando-se a classe $y=0$ como referência. Imagine, por exemplo, se tivéssemos usado o rótulo $y=0$ para operações fraudulentas, e $y=1$ para operações não fraudulentas. Nesse caso, faria mais sentido observar tais métricas tomando-se o $y=0$ como referência.\n",
        "\n",
        "\n",
        "Nos valores calculados observamos que, tomando os valores referentes à classe $y=1$ como referência (operações fraudulentas), o valor de precisão é relativamente baixo (mesma conclusão a qual já havíamos chegado nos nossos slides). Apesar disso, observando a matriz de confusão nós notamos que trata-se de um bom modelo para a aplicação em tela."
      ],
      "metadata": {
        "id": "pXrAj0DO3Czw"
      }
    },
    {
      "cell_type": "markdown",
      "source": [
        "## Parabéns\n",
        "\n",
        "Parabéns, você criou uma rede neural capaz de identificar operações financeiras fraudulentas."
      ],
      "metadata": {
        "id": "8J1h9l4SCxe2"
      }
    }
  ],
  "metadata": {
    "accelerator": "GPU",
    "colab": {
      "provenance": [],
      "include_colab_link": true
    },
    "kernelspec": {
      "display_name": "Python 3",
      "language": "python",
      "name": "python3"
    },
    "language_info": {
      "codemirror_mode": {
        "name": "ipython",
        "version": 3
      },
      "file_extension": ".py",
      "mimetype": "text/x-python",
      "name": "python",
      "nbconvert_exporter": "python",
      "pygments_lexer": "ipython3",
      "version": "3.7.0"
    }
  },
  "nbformat": 4,
  "nbformat_minor": 0
}