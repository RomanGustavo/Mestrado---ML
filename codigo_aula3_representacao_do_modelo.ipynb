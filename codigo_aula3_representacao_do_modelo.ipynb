{
  "cells": [
    {
      "cell_type": "markdown",
      "metadata": {
        "id": "view-in-github",
        "colab_type": "text"
      },
      "source": [
        "<a href=\"https://colab.research.google.com/github/RomanGustavo/Mestrado---ML/blob/main/codigo_aula3_representacao_do_modelo.ipynb\" target=\"_parent\"><img src=\"https://colab.research.google.com/assets/colab-badge.svg\" alt=\"Open In Colab\"/></a>"
      ]
    },
    {
      "cell_type": "markdown",
      "id": "40a2fd65",
      "metadata": {
        "pycharm": {
          "name": "#%% md\n"
        },
        "id": "40a2fd65"
      },
      "source": [
        "# Representação do modelo"
      ]
    },
    {
      "cell_type": "markdown",
      "id": "b40d93f1",
      "metadata": {
        "pycharm": {
          "name": "#%% md\n"
        },
        "id": "b40d93f1"
      },
      "source": [
        "## Objetivo\n",
        "\n",
        "- Aprender a implementar o modelo $f_{w,b} (x)$ para regressão linear com uma variável"
      ]
    },
    {
      "cell_type": "markdown",
      "id": "8a4a7d49",
      "metadata": {
        "pycharm": {
          "name": "#%% md\n"
        },
        "id": "8a4a7d49"
      },
      "source": [
        "## Ferramentas\n",
        "\n",
        "Nesse código, você usará:\n",
        "- NumPy, uma biblioteca popular para cálculos matriciais, etc\n",
        "- Matplotlib, uma biblioteca popular para gerar figuras com dados"
      ]
    },
    {
      "cell_type": "code",
      "execution_count": 1,
      "id": "e34b0245",
      "metadata": {
        "pycharm": {
          "name": "#%%\n"
        },
        "id": "e34b0245"
      },
      "outputs": [],
      "source": [
        "import numpy as np\n",
        "import matplotlib.pyplot as plt"
      ]
    },
    {
      "cell_type": "markdown",
      "id": "5daf9ebe",
      "metadata": {
        "pycharm": {
          "name": "#%% md\n"
        },
        "id": "5daf9ebe"
      },
      "source": [
        "# Definição do Problema\n",
        "\n",
        "Nesse código, você usará um exemplo de motivação baseado na previsão de tensão sobre um resistor.\n",
        "\n",
        "Usaremos para isso um conjunto de dados com apenas 2 amostras - um valor de corrente de 0.2 A que resultou numa tensão de 21 V e um valor de 4.5 A que resultou numa tensão de 430 V. Essas duas amostras de dados contituem nosso *conjunto de dados de treinamento*.\n",
        "\n",
        "| Corrente (A)     | Tensão (V) |\n",
        "| -------------------| ------------------------ |\n",
        "| 0.2               | 21                      |\n",
        "| 4.5               | 430                      |\n",
        "\n",
        "Queremos ajustar um modelo de regressão linear a partir desses dois pontos, para que seja possível então estimar a tensão sobre o resistor para outros valores de corrente.\n"
      ]
    },
    {
      "cell_type": "markdown",
      "id": "672e1429",
      "metadata": {
        "pycharm": {
          "name": "#%% md\n"
        },
        "id": "672e1429"
      },
      "source": [
        "Rodar a célula de código abaixo para criar as variáveis `x_trein` e `y_trein`. Os dados são armazenados em NumPy arrays de uma dimensão."
      ]
    },
    {
      "cell_type": "code",
      "execution_count": 2,
      "id": "82453c24",
      "metadata": {
        "pycharm": {
          "name": "#%%\n"
        },
        "colab": {
          "base_uri": "https://localhost:8080/"
        },
        "id": "82453c24",
        "outputId": "5146db35-e5cf-407d-fafc-028566fd3ddd"
      },
      "outputs": [
        {
          "output_type": "stream",
          "name": "stdout",
          "text": [
            "x_trein = [0.2 4.5]\n",
            "y_trein = [ 21. 430.]\n"
          ]
        }
      ],
      "source": [
        "# x_train é a variável de entrada (corrente em Àmperes)\n",
        "# y_train é a variável alvo (tensão em Volts)\n",
        "x_trein = np.array([0.2, 4.5])\n",
        "y_trein = np.array([21.0, 430.0])\n",
        "print(f\"x_trein = {x_trein}\")\n",
        "print(f\"y_trein = {y_trein}\")"
      ]
    },
    {
      "cell_type": "markdown",
      "id": "f9da5a79",
      "metadata": {
        "pycharm": {
          "name": "#%% md\n"
        },
        "id": "f9da5a79"
      },
      "source": [
        "### Número de amostras de treinamento `m`\n",
        "\n",
        "Usaremos `m` para denotar o número de amostras de treinamento. Numpy arrays têm o parâmetro `.shape`. Nesse contexto, `x_train.shape` retorna uma tupla com uma entrada para cada dimensão. `x_train.shape[0]` é o comprimento da array (primeiro elemento presente na tupla), conforme mostrado abaixo."
      ]
    },
    {
      "cell_type": "code",
      "execution_count": 3,
      "id": "a2edbe21",
      "metadata": {
        "pycharm": {
          "name": "#%%\n"
        },
        "colab": {
          "base_uri": "https://localhost:8080/"
        },
        "id": "a2edbe21",
        "outputId": "01aa9f2c-d8ff-4458-8dae-595c9c2d99a3"
      },
      "outputs": [
        {
          "output_type": "stream",
          "name": "stdout",
          "text": [
            "x_trein.shape: (2,)\n",
            "O número de amostras de treinamento é: 2\n"
          ]
        }
      ],
      "source": [
        "# m é o número de amostras de treinamento\n",
        "print(f\"x_trein.shape: {x_trein.shape}\")\n",
        "m = x_trein.shape[0]\n",
        "print(f\"O número de amostras de treinamento é: {m}\")"
      ]
    },
    {
      "cell_type": "markdown",
      "id": "d673a22b",
      "metadata": {
        "pycharm": {
          "name": "#%% md\n"
        },
        "id": "d673a22b"
      },
      "source": [
        "É possível também utilizar o função em Python `len()`, conforme abaixo."
      ]
    },
    {
      "cell_type": "code",
      "execution_count": 4,
      "id": "edeb666a",
      "metadata": {
        "pycharm": {
          "name": "#%%\n"
        },
        "colab": {
          "base_uri": "https://localhost:8080/"
        },
        "id": "edeb666a",
        "outputId": "83687652-aaab-4bd2-b84d-0b91fce0eebe"
      },
      "outputs": [
        {
          "output_type": "stream",
          "name": "stdout",
          "text": [
            "O número de amostras de treinamento é: 2\n"
          ]
        }
      ],
      "source": [
        "m = len(x_trein)\n",
        "print(f\"O número de amostras de treinamento é: {m}\")"
      ]
    },
    {
      "cell_type": "markdown",
      "id": "f2546b57",
      "metadata": {
        "pycharm": {
          "name": "#%% md\n"
        },
        "id": "f2546b57"
      },
      "source": [
        "### Amostra de treinamento `x_i, y_i`\n",
        "\n",
        "Usaremos (x$^{(i)}$, y$^{(i)}$) para denotar a $i-$ésima amostra de treinamento. Uma vez que a Linguagem Python tem 0 como índice inicial, (x$^{(0)}$, y$^{(0)}$) é (0.2, 21.0) e (x$^{(1)}$, y$^{(1)}$) é (4.5, 430.0).\n",
        "\n",
        "A i-ésima posição da Numpy array `x_trein` é acessada utilizando o comando `x_trein[i]`, onde `i` denota a posição desejada.\n",
        "\n",
        "\n",
        "Veja o código abaixo."
      ]
    },
    {
      "cell_type": "code",
      "execution_count": 8,
      "id": "3e5655af",
      "metadata": {
        "pycharm": {
          "name": "#%%\n"
        },
        "colab": {
          "base_uri": "https://localhost:8080/"
        },
        "id": "3e5655af",
        "outputId": "b62e22cc-20a9-4262-bb77-f35c1d9c9609"
      },
      "outputs": [
        {
          "output_type": "stream",
          "name": "stdout",
          "text": [
            "(x^(0), y^(0)) = (0.2, 21.0)\n"
          ]
        }
      ],
      "source": [
        "i = 0 # Mude esse valor para 1 para ver (x^1, y^1)\n",
        "\n",
        "x_i = x_trein[i]\n",
        "y_i = y_trein[i]\n",
        "print(f\"(x^({i}), y^({i})) = ({x_i}, {y_i})\")"
      ]
    },
    {
      "cell_type": "markdown",
      "id": "5b3cc549",
      "metadata": {
        "pycharm": {
          "name": "#%% md\n"
        },
        "id": "5b3cc549"
      },
      "source": [
        "### Plotando os dados (gerando uma figura que mostra os dados)"
      ]
    },
    {
      "cell_type": "markdown",
      "id": "cc8b13c7",
      "metadata": {
        "pycharm": {
          "name": "#%% md\n"
        },
        "id": "cc8b13c7"
      },
      "source": [
        "Você pode plotar os dois pontos usando a função `scatter()` presente na biblioteca `matplotlib`, conforme mostrado abaixo.\n",
        "- Os argumentos `marker` e `c` mostram os pontos como 'x' vermelhos (o padrão são pontos azuis).\n",
        "\n",
        "Você pode usar outras funções da biblioteca `matplotlib` para definir o título e os rótulos dos eixos"
      ]
    },
    {
      "cell_type": "code",
      "execution_count": 16,
      "id": "254e10fd",
      "metadata": {
        "pycharm": {
          "name": "#%%\n"
        },
        "colab": {
          "base_uri": "https://localhost:8080/",
          "height": 474
        },
        "id": "254e10fd",
        "outputId": "0f48dfae-d540-4453-a9c4-28e646d4be92"
      },
      "outputs": [
        {
          "output_type": "display_data",
          "data": {
            "text/plain": [
              "<Figure size 640x480 with 1 Axes>"
            ],
            "image/png": "[encoded data removed]"
          },
          "metadata": {}
        }
      ],
      "source": [
        "# Plotando os pontos dos dados\n",
        "plt.scatter(x_trein, y_trein, marker='x', c='r')\n",
        "# Ajustando o título:\n",
        "plt.title(\"Tensões sobre um resistor\")\n",
        "# Ajustando o rótulo do eixo y\n",
        "plt.ylabel('Tensão (em Volts)')\n",
        "# Ajustando o rótulo do eixo x\n",
        "plt.xlabel('Corrente (em Àmperes)')\n",
        "plt.show()"
      ]
    },
    {
      "cell_type": "markdown",
      "id": "9f2fd255",
      "metadata": {
        "pycharm": {
          "name": "#%% md\n"
        },
        "id": "9f2fd255"
      },
      "source": [
        "## Implementando um modelo\n",
        "\n",
        "O modelo de função para regressão linear (que é a função que faz o mapeamento de `x` para `y`) é representado por\n",
        "\n",
        "$$ f_{w,b}(x^{(i)}) = wx^{(i)} + b \\tag{1}$$\n",
        "\n",
        "A fórmula acima nos mostra a equação da reta: diferentes valores para $w$ e $b$ levam a diferentes retas. <br/> <br/> <br/> <br/> <br/>\n",
        "\n",
        "\n",
        "Vamos tentar ganhar mais intuição usando o código abaixo. Vamos começar com $w = 0$ e $b = 100$.\n",
        "\n",
        "**OBS: Você pode retornar à célula abaixo para ajustar diferentes valores para os parâmetros w e b do modelo**"
      ]
    },
    {
      "cell_type": "code",
      "execution_count": 13,
      "id": "f2e9d602",
      "metadata": {
        "pycharm": {
          "name": "#%%\n"
        },
        "colab": {
          "base_uri": "https://localhost:8080/"
        },
        "id": "f2e9d602",
        "outputId": "d787f1de-4ceb-47b7-e852-65760974aaac"
      },
      "outputs": [
        {
          "output_type": "stream",
          "name": "stdout",
          "text": [
            "w: 0\n",
            "b: 100\n"
          ]
        }
      ],
      "source": [
        "w = 0\n",
        "b = 100\n",
        "print(f\"w: {w}\")\n",
        "print(f\"b: {b}\")"
      ]
    },
    {
      "cell_type": "markdown",
      "id": "f183098d",
      "metadata": {
        "pycharm": {
          "name": "#%% md\n"
        },
        "id": "f183098d"
      },
      "source": [
        "Agora, vamos computar o valor $f_{w,b}(x^{(i)})$ para os dois dados que temos. Você pode explicitamente escrever:\n",
        "\n",
        "para $x^{(0)}$, `f_wb = w * x[0] + b`\n",
        "\n",
        "para $x^{(1)}$, `f_wb = w * x[1] + b`\n",
        "\n",
        "Para uma grande quantidade de dados, isso pode ser demasiadamente repetitivo. Ao invés disso, você pode usar um loop do tipo `for` conforme mostrado na função `calcula_saida_do_modelo` abaixo.\n",
        "> **OBS**: O argumento `(ndarray (m,))` descreve uma Numpy array de n dimensões da forma (m,). `(scalar)` descreve um argumento sem dimensões, apenas uma magnitude.  \n",
        "> **OBS**: `np.zero(n)` retorna uma numpy array de 1 dimensão com $n$ valores   \n"
      ]
    },
    {
      "cell_type": "code",
      "execution_count": 14,
      "id": "d3f7b759",
      "metadata": {
        "pycharm": {
          "name": "#%%\n"
        },
        "id": "d3f7b759"
      },
      "outputs": [],
      "source": [
        "def calcula_saida_do_modelo(x, w, b):\n",
        "    \"\"\"\n",
        "    Calcula a previsão para um modelo na forma de reta\n",
        "    Argumentos da função:\n",
        "      x (ndarray (m,)): Conjunto de dados com m amostras\n",
        "      w,b (escalar)   : Parâmetros do modelo\n",
        "    Retorna\n",
        "      y (ndarray (m,)): Previsão de saída\n",
        "    \"\"\"\n",
        "    m = x.shape[0]\n",
        "    f_wb = np.zeros(m)\n",
        "    for i in range(m): # estrutura 'for' em Python\n",
        "        f_wb[i] = w * x[i] + b\n",
        "\n",
        "    return f_wb"
      ]
    },
    {
      "cell_type": "markdown",
      "id": "a27a359f",
      "metadata": {
        "pycharm": {
          "name": "#%% md\n"
        },
        "id": "a27a359f"
      },
      "source": [
        "Agora vamos chamar a função `calcula_saida_do_modelo` e plotar o resultado"
      ]
    },
    {
      "cell_type": "code",
      "execution_count": 15,
      "id": "4d72a1a5",
      "metadata": {
        "pycharm": {
          "name": "#%%\n"
        },
        "colab": {
          "base_uri": "https://localhost:8080/",
          "height": 474
        },
        "id": "4d72a1a5",
        "outputId": "14124f06-7490-46b5-99e7-b53ab1340191"
      },
      "outputs": [
        {
          "output_type": "display_data",
          "data": {
            "text/plain": [
              "<Figure size 640x480 with 1 Axes>"
            ],
            "image/png": "[encoded data removed]"
          },
          "metadata": {}
        }
      ],
      "source": [
        "f_wb_calculado = calcula_saida_do_modelo(x_trein, w, b,)\n",
        "\n",
        "# Plotando a previsão feita pelo modelo\n",
        "plt.plot(x_trein, f_wb_calculado, c='b',label='Nosso modelo')\n",
        "\n",
        "# Plotando os dados medidos\n",
        "plt.scatter(x_trein, y_trein, marker='x', c='r',label='Valores dos dados')\n",
        "\n",
        "# Definindo o título\n",
        "plt.title(\"Tensões sobre um resistor\")\n",
        "# Ajustando o rótulo do eixo y\n",
        "plt.ylabel('Tensão (em Volts)')\n",
        "# Ajustando o rótulo do eixo x\n",
        "plt.xlabel('Corrente (em Àmperes)')\n",
        "plt.legend()\n",
        "plt.show()\n"
      ]
    },
    {
      "cell_type": "markdown",
      "id": "3ef91640",
      "metadata": {
        "pycharm": {
          "name": "#%% md\n"
        },
        "id": "3ef91640"
      },
      "source": [
        "Como você pode ver, definindo $w = 0$ e $b = 100$ *não* resulta numa reta que se ajusta bem aos nossos dados.\n",
        "\n",
        "### Desafio\n",
        "Tente diferentes valores para $w$ e $b$. Quais seriam os melhores valores para esse conjunto de dados?\n",
        "\n",
        "Qual seria uma possível interpretação física para o parâmetro $w$ nesse exemplo?\n"
      ]
    },
    {
      "cell_type": "markdown",
      "id": "cef27469",
      "metadata": {
        "pycharm": {
          "name": "#%% md\n"
        },
        "id": "cef27469"
      },
      "source": [
        "### Previsão\n",
        "\n",
        "Agora que temos um modelo, podemos usá-lo para fazer uma previsão para um valor diferente de corrente. Vamos estimar a tensão para uma corrente de 2 A.\n"
      ]
    },
    {
      "cell_type": "code",
      "execution_count": null,
      "id": "c3fe4895",
      "metadata": {
        "pycharm": {
          "name": "#%%\n"
        },
        "colab": {
          "base_uri": "https://localhost:8080/"
        },
        "id": "c3fe4895",
        "outputId": "c0c1b499-b617-45d1-d2c8-a91582e67c46"
      },
      "outputs": [
        {
          "output_type": "stream",
          "name": "stdout",
          "text": [
            "200 Volts\n"
          ]
        }
      ],
      "source": [
        "w = 100\n",
        "b = 0\n",
        "x_i = 2\n",
        "tensao_para_2_amperes = w * x_i + b\n",
        "\n",
        "print(f\"{tensao_para_2_amperes:.0f} Volts\")"
      ]
    },
    {
      "cell_type": "markdown",
      "id": "31c85d61",
      "metadata": {
        "pycharm": {
          "name": "#%% md\n"
        },
        "id": "31c85d61"
      },
      "source": [
        "# Parabéns!\n",
        "\n",
        "Com este código, você aprendeu:\n",
        " - Que a Regressão Linear constrói um modelo que estabelece uma relação entre as características de entrada e a variável alvo de saída\n",
        "     - No exemplo, a característica de entrada era a corrente e a variável alvo era a tensão sobre o resistor\n",
        "     - Para uma simples regressão linear, o modelo tem dois parâmetros $w$ e $b$ cujos valores são ajustados usando um conjunto de dados de treinamento.\n",
        "     - Uma vez que os parâmetros do modelo foram determinados, o modelo pode ser usado para fazer previsões (estimativas) para novos dados que ainda não haviam sido utilizados anteriormente"
      ]
    },
    {
      "cell_type": "code",
      "source": [],
      "metadata": {
        "id": "jrFTSn3DW8yn"
      },
      "id": "jrFTSn3DW8yn",
      "execution_count": null,
      "outputs": []
    }
  ],
  "metadata": {
    "kernelspec": {
      "display_name": "Python 3 (ipykernel)",
      "language": "python",
      "name": "python3"
    },
    "language_info": {
      "codemirror_mode": {
        "name": "ipython",
        "version": 3
      },
      "file_extension": ".py",
      "mimetype": "text/x-python",
      "name": "python",
      "nbconvert_exporter": "python",
      "pygments_lexer": "ipython3",
      "version": "3.9.12"
    },
    "toc-autonumbering": false,
    "colab": {
      "provenance": [],
      "include_colab_link": true
    }
  },
  "nbformat": 4,
  "nbformat_minor": 5
}